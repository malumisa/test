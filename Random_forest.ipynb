{
  "nbformat": 4,
  "nbformat_minor": 0,
  "metadata": {
    "colab": {
      "provenance": [],
      "authorship_tag": "ABX9TyNyA6rAJOqvjTZ7zWUav75r",
      "include_colab_link": true
    },
    "kernelspec": {
      "name": "python3",
      "display_name": "Python 3"
    },
    "language_info": {
      "name": "python"
    }
  },
  "cells": [
    {
      "cell_type": "markdown",
      "metadata": {
        "id": "view-in-github",
        "colab_type": "text"
      },
      "source": [
        "<a href=\"https://colab.research.google.com/github/malumisa/test/blob/main/Random_forest.ipynb\" target=\"_parent\"><img src=\"https://colab.research.google.com/assets/colab-badge.svg\" alt=\"Open In Colab\"/></a>"
      ]
    },
    {
      "cell_type": "code",
      "execution_count": 20,
      "metadata": {
        "id": "tSn9DPVBcaHN"
      },
      "outputs": [],
      "source": [
        "import pandas as pd\n",
        "import numpy as np\n",
        "from sklearn.ensemble import RandomForestClassifier\n",
        "from sklearn.model_selection import train_test_split\n",
        "from sklearn.metrics import accuracy_score, confusion_matrix, classification_report\n",
        "# additions\n",
        "from sklearn.metrics import mean_squared_error\n",
        "from sklearn.metrics import f1_score"
      ]
    },
    {
      "cell_type": "code",
      "source": [
        "# Load the data\n",
        "df = pd.read_csv(\"/content/Result_Protein_Peptide_Combine.csv\")"
      ],
      "metadata": {
        "id": "DCUs5h88clpM"
      },
      "execution_count": 21,
      "outputs": []
    },
    {
      "cell_type": "code",
      "source": [
        "df.head()"
      ],
      "metadata": {
        "colab": {
          "base_uri": "https://localhost:8080/",
          "height": 300
        },
        "id": "lP738JL0fsTN",
        "outputId": "0bfd0970-f2b8-4047-8cfd-49235d125b18"
      },
      "execution_count": 22,
      "outputs": [
        {
          "output_type": "execute_result",
          "data": {
            "text/plain": [
              "   visit_month  updrs_1  updrs_2  updrs_3  updrs_4  On  AADDTWEPFASGK  \\\n",
              "0            0     10.0      6.0     15.0      0.0   0      8984260.0   \n",
              "1            6      8.0     10.0     34.0      0.0   0      8279770.0   \n",
              "2           12     10.0     10.0     41.0      0.0   1      8382390.0   \n",
              "3           36     17.0     18.0     51.0      0.0   1     10671500.0   \n",
              "4            6      8.0      2.0     21.0      0.0   0      6177730.0   \n",
              "\n",
              "   AAFGQGSGPIMLDEVQC(UniMod_4)TGTEASLADC(UniMod_4)K  \\\n",
              "0                                           53855.6   \n",
              "1                                           45251.9   \n",
              "2                                           53000.9   \n",
              "3                                           58108.4   \n",
              "4                                           42682.6   \n",
              "\n",
              "   AAFTEC(UniMod_4)C(UniMod_4)QAADK  AANEVSSADVK  ...  62329  62437  62723  \\\n",
              "0                         8579740.0          0.0  ...      0      0      0   \n",
              "1                         8655890.0      49927.5  ...      0      0      0   \n",
              "2                         8995640.0      45519.2  ...      0      0      0   \n",
              "3                         9985420.0      52374.0  ...      0      0      0   \n",
              "4                         3596660.0      25698.8  ...      0      0      0   \n",
              "\n",
              "   62732  62792  63875  63889  64669  64674  65043  \n",
              "0      0      0      0      0      0      0      0  \n",
              "1      0      0      0      0      0      0      0  \n",
              "2      0      0      0      0      0      0      0  \n",
              "3      0      0      0      0      0      0      0  \n",
              "4      0      0      0      0      0      0      0  \n",
              "\n",
              "[5 rows x 1449 columns]"
            ],
            "text/html": [
              "\n",
              "  <div id=\"df-8fa188e7-cfc6-47fa-aa2c-ad39d104e22e\">\n",
              "    <div class=\"colab-df-container\">\n",
              "      <div>\n",
              "<style scoped>\n",
              "    .dataframe tbody tr th:only-of-type {\n",
              "        vertical-align: middle;\n",
              "    }\n",
              "\n",
              "    .dataframe tbody tr th {\n",
              "        vertical-align: top;\n",
              "    }\n",
              "\n",
              "    .dataframe thead th {\n",
              "        text-align: right;\n",
              "    }\n",
              "</style>\n",
              "<table border=\"1\" class=\"dataframe\">\n",
              "  <thead>\n",
              "    <tr style=\"text-align: right;\">\n",
              "      <th></th>\n",
              "      <th>visit_month</th>\n",
              "      <th>updrs_1</th>\n",
              "      <th>updrs_2</th>\n",
              "      <th>updrs_3</th>\n",
              "      <th>updrs_4</th>\n",
              "      <th>On</th>\n",
              "      <th>AADDTWEPFASGK</th>\n",
              "      <th>AAFGQGSGPIMLDEVQC(UniMod_4)TGTEASLADC(UniMod_4)K</th>\n",
              "      <th>AAFTEC(UniMod_4)C(UniMod_4)QAADK</th>\n",
              "      <th>AANEVSSADVK</th>\n",
              "      <th>...</th>\n",
              "      <th>62329</th>\n",
              "      <th>62437</th>\n",
              "      <th>62723</th>\n",
              "      <th>62732</th>\n",
              "      <th>62792</th>\n",
              "      <th>63875</th>\n",
              "      <th>63889</th>\n",
              "      <th>64669</th>\n",
              "      <th>64674</th>\n",
              "      <th>65043</th>\n",
              "    </tr>\n",
              "  </thead>\n",
              "  <tbody>\n",
              "    <tr>\n",
              "      <th>0</th>\n",
              "      <td>0</td>\n",
              "      <td>10.0</td>\n",
              "      <td>6.0</td>\n",
              "      <td>15.0</td>\n",
              "      <td>0.0</td>\n",
              "      <td>0</td>\n",
              "      <td>8984260.0</td>\n",
              "      <td>53855.6</td>\n",
              "      <td>8579740.0</td>\n",
              "      <td>0.0</td>\n",
              "      <td>...</td>\n",
              "      <td>0</td>\n",
              "      <td>0</td>\n",
              "      <td>0</td>\n",
              "      <td>0</td>\n",
              "      <td>0</td>\n",
              "      <td>0</td>\n",
              "      <td>0</td>\n",
              "      <td>0</td>\n",
              "      <td>0</td>\n",
              "      <td>0</td>\n",
              "    </tr>\n",
              "    <tr>\n",
              "      <th>1</th>\n",
              "      <td>6</td>\n",
              "      <td>8.0</td>\n",
              "      <td>10.0</td>\n",
              "      <td>34.0</td>\n",
              "      <td>0.0</td>\n",
              "      <td>0</td>\n",
              "      <td>8279770.0</td>\n",
              "      <td>45251.9</td>\n",
              "      <td>8655890.0</td>\n",
              "      <td>49927.5</td>\n",
              "      <td>...</td>\n",
              "      <td>0</td>\n",
              "      <td>0</td>\n",
              "      <td>0</td>\n",
              "      <td>0</td>\n",
              "      <td>0</td>\n",
              "      <td>0</td>\n",
              "      <td>0</td>\n",
              "      <td>0</td>\n",
              "      <td>0</td>\n",
              "      <td>0</td>\n",
              "    </tr>\n",
              "    <tr>\n",
              "      <th>2</th>\n",
              "      <td>12</td>\n",
              "      <td>10.0</td>\n",
              "      <td>10.0</td>\n",
              "      <td>41.0</td>\n",
              "      <td>0.0</td>\n",
              "      <td>1</td>\n",
              "      <td>8382390.0</td>\n",
              "      <td>53000.9</td>\n",
              "      <td>8995640.0</td>\n",
              "      <td>45519.2</td>\n",
              "      <td>...</td>\n",
              "      <td>0</td>\n",
              "      <td>0</td>\n",
              "      <td>0</td>\n",
              "      <td>0</td>\n",
              "      <td>0</td>\n",
              "      <td>0</td>\n",
              "      <td>0</td>\n",
              "      <td>0</td>\n",
              "      <td>0</td>\n",
              "      <td>0</td>\n",
              "    </tr>\n",
              "    <tr>\n",
              "      <th>3</th>\n",
              "      <td>36</td>\n",
              "      <td>17.0</td>\n",
              "      <td>18.0</td>\n",
              "      <td>51.0</td>\n",
              "      <td>0.0</td>\n",
              "      <td>1</td>\n",
              "      <td>10671500.0</td>\n",
              "      <td>58108.4</td>\n",
              "      <td>9985420.0</td>\n",
              "      <td>52374.0</td>\n",
              "      <td>...</td>\n",
              "      <td>0</td>\n",
              "      <td>0</td>\n",
              "      <td>0</td>\n",
              "      <td>0</td>\n",
              "      <td>0</td>\n",
              "      <td>0</td>\n",
              "      <td>0</td>\n",
              "      <td>0</td>\n",
              "      <td>0</td>\n",
              "      <td>0</td>\n",
              "    </tr>\n",
              "    <tr>\n",
              "      <th>4</th>\n",
              "      <td>6</td>\n",
              "      <td>8.0</td>\n",
              "      <td>2.0</td>\n",
              "      <td>21.0</td>\n",
              "      <td>0.0</td>\n",
              "      <td>0</td>\n",
              "      <td>6177730.0</td>\n",
              "      <td>42682.6</td>\n",
              "      <td>3596660.0</td>\n",
              "      <td>25698.8</td>\n",
              "      <td>...</td>\n",
              "      <td>0</td>\n",
              "      <td>0</td>\n",
              "      <td>0</td>\n",
              "      <td>0</td>\n",
              "      <td>0</td>\n",
              "      <td>0</td>\n",
              "      <td>0</td>\n",
              "      <td>0</td>\n",
              "      <td>0</td>\n",
              "      <td>0</td>\n",
              "    </tr>\n",
              "  </tbody>\n",
              "</table>\n",
              "<p>5 rows × 1449 columns</p>\n",
              "</div>\n",
              "      <button class=\"colab-df-convert\" onclick=\"convertToInteractive('df-8fa188e7-cfc6-47fa-aa2c-ad39d104e22e')\"\n",
              "              title=\"Convert this dataframe to an interactive table.\"\n",
              "              style=\"display:none;\">\n",
              "        \n",
              "  <svg xmlns=\"http://www.w3.org/2000/svg\" height=\"24px\"viewBox=\"0 0 24 24\"\n",
              "       width=\"24px\">\n",
              "    <path d=\"M0 0h24v24H0V0z\" fill=\"none\"/>\n",
              "    <path d=\"M18.56 5.44l.94 2.06.94-2.06 2.06-.94-2.06-.94-.94-2.06-.94 2.06-2.06.94zm-11 1L8.5 8.5l.94-2.06 2.06-.94-2.06-.94L8.5 2.5l-.94 2.06-2.06.94zm10 10l.94 2.06.94-2.06 2.06-.94-2.06-.94-.94-2.06-.94 2.06-2.06.94z\"/><path d=\"M17.41 7.96l-1.37-1.37c-.4-.4-.92-.59-1.43-.59-.52 0-1.04.2-1.43.59L10.3 9.45l-7.72 7.72c-.78.78-.78 2.05 0 2.83L4 21.41c.39.39.9.59 1.41.59.51 0 1.02-.2 1.41-.59l7.78-7.78 2.81-2.81c.8-.78.8-2.07 0-2.86zM5.41 20L4 18.59l7.72-7.72 1.47 1.35L5.41 20z\"/>\n",
              "  </svg>\n",
              "      </button>\n",
              "      \n",
              "  <style>\n",
              "    .colab-df-container {\n",
              "      display:flex;\n",
              "      flex-wrap:wrap;\n",
              "      gap: 12px;\n",
              "    }\n",
              "\n",
              "    .colab-df-convert {\n",
              "      background-color: #E8F0FE;\n",
              "      border: none;\n",
              "      border-radius: 50%;\n",
              "      cursor: pointer;\n",
              "      display: none;\n",
              "      fill: #1967D2;\n",
              "      height: 32px;\n",
              "      padding: 0 0 0 0;\n",
              "      width: 32px;\n",
              "    }\n",
              "\n",
              "    .colab-df-convert:hover {\n",
              "      background-color: #E2EBFA;\n",
              "      box-shadow: 0px 1px 2px rgba(60, 64, 67, 0.3), 0px 1px 3px 1px rgba(60, 64, 67, 0.15);\n",
              "      fill: #174EA6;\n",
              "    }\n",
              "\n",
              "    [theme=dark] .colab-df-convert {\n",
              "      background-color: #3B4455;\n",
              "      fill: #D2E3FC;\n",
              "    }\n",
              "\n",
              "    [theme=dark] .colab-df-convert:hover {\n",
              "      background-color: #434B5C;\n",
              "      box-shadow: 0px 1px 3px 1px rgba(0, 0, 0, 0.15);\n",
              "      filter: drop-shadow(0px 1px 2px rgba(0, 0, 0, 0.3));\n",
              "      fill: #FFFFFF;\n",
              "    }\n",
              "  </style>\n",
              "\n",
              "      <script>\n",
              "        const buttonEl =\n",
              "          document.querySelector('#df-8fa188e7-cfc6-47fa-aa2c-ad39d104e22e button.colab-df-convert');\n",
              "        buttonEl.style.display =\n",
              "          google.colab.kernel.accessAllowed ? 'block' : 'none';\n",
              "\n",
              "        async function convertToInteractive(key) {\n",
              "          const element = document.querySelector('#df-8fa188e7-cfc6-47fa-aa2c-ad39d104e22e');\n",
              "          const dataTable =\n",
              "            await google.colab.kernel.invokeFunction('convertToInteractive',\n",
              "                                                     [key], {});\n",
              "          if (!dataTable) return;\n",
              "\n",
              "          const docLinkHtml = 'Like what you see? Visit the ' +\n",
              "            '<a target=\"_blank\" href=https://colab.research.google.com/notebooks/data_table.ipynb>data table notebook</a>'\n",
              "            + ' to learn more about interactive tables.';\n",
              "          element.innerHTML = '';\n",
              "          dataTable['output_type'] = 'display_data';\n",
              "          await google.colab.output.renderOutput(dataTable, element);\n",
              "          const docLink = document.createElement('div');\n",
              "          docLink.innerHTML = docLinkHtml;\n",
              "          element.appendChild(docLink);\n",
              "        }\n",
              "      </script>\n",
              "    </div>\n",
              "  </div>\n",
              "  "
            ]
          },
          "metadata": {},
          "execution_count": 22
        }
      ]
    },
    {
      "cell_type": "code",
      "source": [
        "# Define the target and feature variables\n",
        "target_variable = ['updrs_1', 'updrs_2', 'updrs_3', 'updrs_4']\n",
        "feature_variables = [x for x in df.columns if x != target_variable]"
      ],
      "metadata": {
        "id": "B44bhelDcl-z"
      },
      "execution_count": 23,
      "outputs": []
    },
    {
      "cell_type": "code",
      "source": [
        "# Split the data into training and testing sets\n",
        "X_train, X_test, y_train, y_test = train_test_split(df[feature_variables], df[target_variable], test_size=0.2, random_state=1)\n"
      ],
      "metadata": {
        "id": "KG49wjQAcmBO"
      },
      "execution_count": 24,
      "outputs": []
    },
    {
      "cell_type": "code",
      "source": [
        "# Create a Random Forest classifier instance\n",
        "rf = RandomForestClassifier(n_estimators=2000, max_depth=10, min_samples_split=5, min_samples_leaf=3,random_state=1)"
      ],
      "metadata": {
        "id": "IIso7OtgcmDU"
      },
      "execution_count": 25,
      "outputs": []
    },
    {
      "cell_type": "code",
      "source": [
        "# Train the Random Forest classifier on the training data\n",
        "#rf.fit(X_train, y_train)"
      ],
      "metadata": {
        "id": "dU60TqLkcmHl"
      },
      "execution_count": 12,
      "outputs": []
    },
    {
      "cell_type": "code",
      "source": [
        "# Train a separate Random Forest classifier for each target variable\n",
        "models = {}\n",
        "for target in target_variable:\n",
        "    model = RandomForestClassifier(n_estimators=2000, max_depth=10, min_samples_split=5, min_samples_leaf=3,random_state=1)\n",
        "    model.fit(X_train, y_train[target])\n",
        "    y_pred = model.predict(X_test)\n",
        "    f1 = f1_score(y_test[target], y_pred, average='weighted')\n",
        "    print(\"F1 score for {} = {}\".format(target, f1))\n",
        "    models[target] = model"
      ],
      "metadata": {
        "colab": {
          "base_uri": "https://localhost:8080/"
        },
        "id": "Bw0Jdiu8oGLg",
        "outputId": "293aee01-7737-4b67-bf9b-e8b92192194e"
      },
      "execution_count": 26,
      "outputs": [
        {
          "output_type": "stream",
          "name": "stdout",
          "text": [
            "F1 score for updrs_1 = 0.21398433880550388\n",
            "F1 score for updrs_2 = 0.16352074823385163\n",
            "F1 score for updrs_3 = 0.058227774774078936\n",
            "F1 score for updrs_4 = 0.6905123061114645\n"
          ]
        }
      ]
    },
    {
      "cell_type": "code",
      "source": [
        "# Make predictions on the testing data\n",
        "y_pred = rf.predict(X_test)"
      ],
      "metadata": {
        "id": "BGImBOxWcmMc"
      },
      "execution_count": 8,
      "outputs": []
    },
    {
      "cell_type": "code",
      "source": [
        "# Calculate the accuracy score\n",
        "mse = mean_squared_error(y_test, y_pred)\n",
        "print('Mean Squared Error:', mse)"
      ],
      "metadata": {
        "id": "2SCdrUrAc23W",
        "outputId": "6be630e9-f30a-473e-e9e1-a3aba6e6bf28",
        "colab": {
          "base_uri": "https://localhost:8080/"
        }
      },
      "execution_count": 11,
      "outputs": [
        {
          "output_type": "stream",
          "name": "stdout",
          "text": [
            "Mean Squared Error: 166.46962616822432\n"
          ]
        }
      ]
    },
    {
      "cell_type": "code",
      "source": [
        "# Evaluate the model using mean squared error\n",
        "mse = mean_squared_error(y_test, y_pred)\n",
        "print(f\"Mean Squared Error: {mse}\")"
      ],
      "metadata": {
        "colab": {
          "base_uri": "https://localhost:8080/"
        },
        "id": "Uwy9oW3wgZv6",
        "outputId": "3bf61f10-750c-495a-dab5-54a82ea92cb6"
      },
      "execution_count": null,
      "outputs": [
        {
          "output_type": "stream",
          "name": "stdout",
          "text": [
            "Mean Squared Error: 166.46962616822432\n"
          ]
        }
      ]
    },
    {
      "cell_type": "code",
      "source": [
        "# Assuming y_pred and y_test are both arrays of shape (n_samples, n_classes)\n",
        "# f1_scores = []\n",
        "# for i in range(y_test.shape[1]):\n",
        "#     f1 = f1_score(y_test[:,i], y_pred[:,i], average='weighted')\n",
        "#     f1_scores.append(f1)\n",
        "\n",
        "# mean_f1 = sum(f1_scores) / len(f1_scores)\n",
        "\n",
        "# print(f\"Mean F1 score: {mean_f1}\")"
      ],
      "metadata": {
        "id": "1HK6pOlnhTMY"
      },
      "execution_count": null,
      "outputs": []
    },
    {
      "cell_type": "code",
      "source": [
        "# Print the accuracy score\n",
        "print(f\"Accuracy: {accuracy}\")"
      ],
      "metadata": {
        "colab": {
          "base_uri": "https://localhost:8080/"
        },
        "id": "u98lBOzzc27k",
        "outputId": "706cc255-e15e-46b6-813f-739f5a018f7a"
      },
      "execution_count": null,
      "outputs": [
        {
          "output_type": "stream",
          "name": "stdout",
          "text": [
            "Accuracy: 0.13551401869158877\n"
          ]
        }
      ]
    },
    {
      "cell_type": "code",
      "source": [
        "# Print the confusion matrix and classification report\n",
        "print(\"Confusion Matrix:\")\n",
        "print(confusion_matrix(y_test, y_pred))\n",
        "print(\"Classification Report:\")\n",
        "print(classification_report(y_test, y_pred))\n"
      ],
      "metadata": {
        "colab": {
          "base_uri": "https://localhost:8080/"
        },
        "id": "KzSbnm2cc2-M",
        "outputId": "f9dfeb21-9b03-4949-c946-739fae78b3b5"
      },
      "execution_count": null,
      "outputs": [
        {
          "output_type": "stream",
          "name": "stdout",
          "text": [
            "Confusion Matrix:\n",
            "[[ 0 10  2  1  0  1  0  0  0  0  0  0  0  0  0  0  0  0  0  0  0]\n",
            " [ 1 14  2  0  0  1  1  0  0  1  0  0  0  0  0  0  0  0  0  0  0]\n",
            " [ 0 17  5  2  0  1  3  0  0  1  0  0  0  0  0  0  0  0  0  0  0]\n",
            " [ 0 13  2  0  2  2  1  0  0  0  0  0  0  0  0  0  0  0  0  0  0]\n",
            " [ 0  6  3  0  0  1  2  0  0  0  0  0  0  0  0  0  0  0  0  0  0]\n",
            " [ 0 10  2  1  0  2  3  1  0  0  0  0  0  0  0  0  0  0  0  0  0]\n",
            " [ 0  6  1  0  0  0  2  0  1  0  0  1  0  0  0  0  0  0  0  0  0]\n",
            " [ 0  4  0  0  0  4  3  2  0  0  0  0  0  0  0  0  0  0  0  0  0]\n",
            " [ 0  5  1  0  1  1  5  2  0  0  0  0  0  0  0  0  0  0  0  0  0]\n",
            " [ 0  0  0  0  0  3  1  0  1  3  0  0  0  0  0  0  0  0  0  0  0]\n",
            " [ 0  1  1  0  1  1  4  1  0  0  0  0  0  0  0  0  0  0  0  0  0]\n",
            " [ 0  1  0  0  0  1  1  0  0  0  0  1  0  0  0  0  0  0  0  0  0]\n",
            " [ 0  4  2  0  0  0  4  0  0  0  0  0  0  0  0  0  0  0  0  0  0]\n",
            " [ 0  1  0  0  0  0  7  0  0  0  0  0  0  0  0  0  0  0  0  0  0]\n",
            " [ 0  0  1  1  0  0  1  0  0  0  0  0  0  0  0  0  0  0  0  0  0]\n",
            " [ 0  0  0  0  0  1  0  0  0  0  0  1  0  0  0  0  0  0  0  0  0]\n",
            " [ 0  1  1  0  0  0  2  0  0  2  0  0  0  0  0  0  0  0  0  0  0]\n",
            " [ 0  0  0  0  1  0  1  0  0  1  0  0  1  0  0  0  0  0  0  0  0]\n",
            " [ 0  1  0  0  0  0  1  0  0  1  0  0  0  0  0  0  0  0  0  0  0]\n",
            " [ 0  0  0  0  0  0  0  0  0  1  0  0  0  0  0  0  0  0  0  0  0]\n",
            " [ 0  2  0  0  0  0  1  0  0  0  0  0  0  0  0  0  0  0  0  0  0]]\n",
            "Classification Report:\n",
            "              precision    recall  f1-score   support\n",
            "\n",
            "         0.0       0.00      0.00      0.00        14\n",
            "         1.0       0.15      0.70      0.24        20\n",
            "         2.0       0.22      0.17      0.19        29\n",
            "         3.0       0.00      0.00      0.00        20\n",
            "         4.0       0.00      0.00      0.00        12\n",
            "         5.0       0.11      0.11      0.11        19\n",
            "         6.0       0.05      0.18      0.07        11\n",
            "         7.0       0.33      0.15      0.21        13\n",
            "         8.0       0.00      0.00      0.00        15\n",
            "         9.0       0.30      0.38      0.33         8\n",
            "        10.0       0.00      0.00      0.00         9\n",
            "        11.0       0.33      0.25      0.29         4\n",
            "        12.0       0.00      0.00      0.00        10\n",
            "        13.0       0.00      0.00      0.00         8\n",
            "        14.0       0.00      0.00      0.00         3\n",
            "        15.0       0.00      0.00      0.00         2\n",
            "        16.0       0.00      0.00      0.00         6\n",
            "        17.0       0.00      0.00      0.00         4\n",
            "        18.0       0.00      0.00      0.00         3\n",
            "        19.0       0.00      0.00      0.00         1\n",
            "        20.0       0.00      0.00      0.00         3\n",
            "\n",
            "    accuracy                           0.14       214\n",
            "   macro avg       0.07      0.09      0.07       214\n",
            "weighted avg       0.09      0.14      0.09       214\n",
            "\n"
          ]
        },
        {
          "output_type": "stream",
          "name": "stderr",
          "text": [
            "/usr/local/lib/python3.9/dist-packages/sklearn/metrics/_classification.py:1344: UndefinedMetricWarning: Precision and F-score are ill-defined and being set to 0.0 in labels with no predicted samples. Use `zero_division` parameter to control this behavior.\n",
            "  _warn_prf(average, modifier, msg_start, len(result))\n",
            "/usr/local/lib/python3.9/dist-packages/sklearn/metrics/_classification.py:1344: UndefinedMetricWarning: Precision and F-score are ill-defined and being set to 0.0 in labels with no predicted samples. Use `zero_division` parameter to control this behavior.\n",
            "  _warn_prf(average, modifier, msg_start, len(result))\n",
            "/usr/local/lib/python3.9/dist-packages/sklearn/metrics/_classification.py:1344: UndefinedMetricWarning: Precision and F-score are ill-defined and being set to 0.0 in labels with no predicted samples. Use `zero_division` parameter to control this behavior.\n",
            "  _warn_prf(average, modifier, msg_start, len(result))\n"
          ]
        }
      ]
    },
    {
      "cell_type": "code",
      "source": [],
      "metadata": {
        "id": "7cx-A-sjc3CN"
      },
      "execution_count": null,
      "outputs": []
    },
    {
      "cell_type": "code",
      "source": [],
      "metadata": {
        "id": "5nWNLnrkc3E-"
      },
      "execution_count": null,
      "outputs": []
    },
    {
      "cell_type": "code",
      "source": [],
      "metadata": {
        "id": "x9PoRG5_cmPJ"
      },
      "execution_count": null,
      "outputs": []
    }
  ]
}