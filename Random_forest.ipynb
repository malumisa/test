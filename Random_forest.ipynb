{
  "nbformat": 4,
  "nbformat_minor": 0,
  "metadata": {
    "colab": {
      "provenance": [],
      "authorship_tag": "ABX9TyPqREVJ5qJL+IQYY0iaIUy/",
      "include_colab_link": true
    },
    "kernelspec": {
      "name": "python3",
      "display_name": "Python 3"
    },
    "language_info": {
      "name": "python"
    }
  },
  "cells": [
    {
      "cell_type": "markdown",
      "metadata": {
        "id": "view-in-github",
        "colab_type": "text"
      },
      "source": [
        "<a href=\"https://colab.research.google.com/github/malumisa/test/blob/main/Random_forest.ipynb\" target=\"_parent\"><img src=\"https://colab.research.google.com/assets/colab-badge.svg\" alt=\"Open In Colab\"/></a>"
      ]
    },
    {
      "cell_type": "code",
      "execution_count": 28,
      "metadata": {
        "id": "tSn9DPVBcaHN"
      },
      "outputs": [],
      "source": [
        "import pandas as pd\n",
        "import numpy as np\n",
        "from sklearn.ensemble import RandomForestClassifier\n",
        "from sklearn.model_selection import train_test_split\n",
        "from sklearn.metrics import accuracy_score, confusion_matrix, classification_report\n",
        "import matplotlib.pyplot as plt\n",
        "import re\n",
        "\n",
        "# additions\n",
        "from sklearn.metrics import mean_squared_error\n",
        "from sklearn.metrics import f1_score"
      ]
    },
    {
      "cell_type": "code",
      "source": [
        "# Load the data\n",
        "df = pd.read_csv(\"/content/Result_Protein_Peptide_Combine.csv\")"
      ],
      "metadata": {
        "id": "DCUs5h88clpM"
      },
      "execution_count": 29,
      "outputs": []
    },
    {
      "cell_type": "code",
      "source": [
        "df.head()"
      ],
      "metadata": {
        "colab": {
          "base_uri": "https://localhost:8080/",
          "height": 300
        },
        "id": "lP738JL0fsTN",
        "outputId": "b2e7d858-fbdf-474c-f8fe-59e7b8bbf14e"
      },
      "execution_count": 30,
      "outputs": [
        {
          "output_type": "execute_result",
          "data": {
            "text/plain": [
              "   visit_month  updrs_1  updrs_2  updrs_3  updrs_4  On  AADDTWEPFASGK  \\\n",
              "0            0     10.0      6.0     15.0      0.0   0      8984260.0   \n",
              "1            6      8.0     10.0     34.0      0.0   0      8279770.0   \n",
              "2           12     10.0     10.0     41.0      0.0   1      8382390.0   \n",
              "3           36     17.0     18.0     51.0      0.0   1     10671500.0   \n",
              "4            6      8.0      2.0     21.0      0.0   0      6177730.0   \n",
              "\n",
              "   AAFGQGSGPIMLDEVQC(UniMod_4)TGTEASLADC(UniMod_4)K  \\\n",
              "0                                           53855.6   \n",
              "1                                           45251.9   \n",
              "2                                           53000.9   \n",
              "3                                           58108.4   \n",
              "4                                           42682.6   \n",
              "\n",
              "   AAFTEC(UniMod_4)C(UniMod_4)QAADK  AANEVSSADVK  ...  62329  62437  62723  \\\n",
              "0                         8579740.0          0.0  ...      0      0      0   \n",
              "1                         8655890.0      49927.5  ...      0      0      0   \n",
              "2                         8995640.0      45519.2  ...      0      0      0   \n",
              "3                         9985420.0      52374.0  ...      0      0      0   \n",
              "4                         3596660.0      25698.8  ...      0      0      0   \n",
              "\n",
              "   62732  62792  63875  63889  64669  64674  65043  \n",
              "0      0      0      0      0      0      0      0  \n",
              "1      0      0      0      0      0      0      0  \n",
              "2      0      0      0      0      0      0      0  \n",
              "3      0      0      0      0      0      0      0  \n",
              "4      0      0      0      0      0      0      0  \n",
              "\n",
              "[5 rows x 1449 columns]"
            ],
            "text/html": [
              "\n",
              "  <div id=\"df-940e9b72-ee09-4735-8361-10cc15e07e06\">\n",
              "    <div class=\"colab-df-container\">\n",
              "      <div>\n",
              "<style scoped>\n",
              "    .dataframe tbody tr th:only-of-type {\n",
              "        vertical-align: middle;\n",
              "    }\n",
              "\n",
              "    .dataframe tbody tr th {\n",
              "        vertical-align: top;\n",
              "    }\n",
              "\n",
              "    .dataframe thead th {\n",
              "        text-align: right;\n",
              "    }\n",
              "</style>\n",
              "<table border=\"1\" class=\"dataframe\">\n",
              "  <thead>\n",
              "    <tr style=\"text-align: right;\">\n",
              "      <th></th>\n",
              "      <th>visit_month</th>\n",
              "      <th>updrs_1</th>\n",
              "      <th>updrs_2</th>\n",
              "      <th>updrs_3</th>\n",
              "      <th>updrs_4</th>\n",
              "      <th>On</th>\n",
              "      <th>AADDTWEPFASGK</th>\n",
              "      <th>AAFGQGSGPIMLDEVQC(UniMod_4)TGTEASLADC(UniMod_4)K</th>\n",
              "      <th>AAFTEC(UniMod_4)C(UniMod_4)QAADK</th>\n",
              "      <th>AANEVSSADVK</th>\n",
              "      <th>...</th>\n",
              "      <th>62329</th>\n",
              "      <th>62437</th>\n",
              "      <th>62723</th>\n",
              "      <th>62732</th>\n",
              "      <th>62792</th>\n",
              "      <th>63875</th>\n",
              "      <th>63889</th>\n",
              "      <th>64669</th>\n",
              "      <th>64674</th>\n",
              "      <th>65043</th>\n",
              "    </tr>\n",
              "  </thead>\n",
              "  <tbody>\n",
              "    <tr>\n",
              "      <th>0</th>\n",
              "      <td>0</td>\n",
              "      <td>10.0</td>\n",
              "      <td>6.0</td>\n",
              "      <td>15.0</td>\n",
              "      <td>0.0</td>\n",
              "      <td>0</td>\n",
              "      <td>8984260.0</td>\n",
              "      <td>53855.6</td>\n",
              "      <td>8579740.0</td>\n",
              "      <td>0.0</td>\n",
              "      <td>...</td>\n",
              "      <td>0</td>\n",
              "      <td>0</td>\n",
              "      <td>0</td>\n",
              "      <td>0</td>\n",
              "      <td>0</td>\n",
              "      <td>0</td>\n",
              "      <td>0</td>\n",
              "      <td>0</td>\n",
              "      <td>0</td>\n",
              "      <td>0</td>\n",
              "    </tr>\n",
              "    <tr>\n",
              "      <th>1</th>\n",
              "      <td>6</td>\n",
              "      <td>8.0</td>\n",
              "      <td>10.0</td>\n",
              "      <td>34.0</td>\n",
              "      <td>0.0</td>\n",
              "      <td>0</td>\n",
              "      <td>8279770.0</td>\n",
              "      <td>45251.9</td>\n",
              "      <td>8655890.0</td>\n",
              "      <td>49927.5</td>\n",
              "      <td>...</td>\n",
              "      <td>0</td>\n",
              "      <td>0</td>\n",
              "      <td>0</td>\n",
              "      <td>0</td>\n",
              "      <td>0</td>\n",
              "      <td>0</td>\n",
              "      <td>0</td>\n",
              "      <td>0</td>\n",
              "      <td>0</td>\n",
              "      <td>0</td>\n",
              "    </tr>\n",
              "    <tr>\n",
              "      <th>2</th>\n",
              "      <td>12</td>\n",
              "      <td>10.0</td>\n",
              "      <td>10.0</td>\n",
              "      <td>41.0</td>\n",
              "      <td>0.0</td>\n",
              "      <td>1</td>\n",
              "      <td>8382390.0</td>\n",
              "      <td>53000.9</td>\n",
              "      <td>8995640.0</td>\n",
              "      <td>45519.2</td>\n",
              "      <td>...</td>\n",
              "      <td>0</td>\n",
              "      <td>0</td>\n",
              "      <td>0</td>\n",
              "      <td>0</td>\n",
              "      <td>0</td>\n",
              "      <td>0</td>\n",
              "      <td>0</td>\n",
              "      <td>0</td>\n",
              "      <td>0</td>\n",
              "      <td>0</td>\n",
              "    </tr>\n",
              "    <tr>\n",
              "      <th>3</th>\n",
              "      <td>36</td>\n",
              "      <td>17.0</td>\n",
              "      <td>18.0</td>\n",
              "      <td>51.0</td>\n",
              "      <td>0.0</td>\n",
              "      <td>1</td>\n",
              "      <td>10671500.0</td>\n",
              "      <td>58108.4</td>\n",
              "      <td>9985420.0</td>\n",
              "      <td>52374.0</td>\n",
              "      <td>...</td>\n",
              "      <td>0</td>\n",
              "      <td>0</td>\n",
              "      <td>0</td>\n",
              "      <td>0</td>\n",
              "      <td>0</td>\n",
              "      <td>0</td>\n",
              "      <td>0</td>\n",
              "      <td>0</td>\n",
              "      <td>0</td>\n",
              "      <td>0</td>\n",
              "    </tr>\n",
              "    <tr>\n",
              "      <th>4</th>\n",
              "      <td>6</td>\n",
              "      <td>8.0</td>\n",
              "      <td>2.0</td>\n",
              "      <td>21.0</td>\n",
              "      <td>0.0</td>\n",
              "      <td>0</td>\n",
              "      <td>6177730.0</td>\n",
              "      <td>42682.6</td>\n",
              "      <td>3596660.0</td>\n",
              "      <td>25698.8</td>\n",
              "      <td>...</td>\n",
              "      <td>0</td>\n",
              "      <td>0</td>\n",
              "      <td>0</td>\n",
              "      <td>0</td>\n",
              "      <td>0</td>\n",
              "      <td>0</td>\n",
              "      <td>0</td>\n",
              "      <td>0</td>\n",
              "      <td>0</td>\n",
              "      <td>0</td>\n",
              "    </tr>\n",
              "  </tbody>\n",
              "</table>\n",
              "<p>5 rows × 1449 columns</p>\n",
              "</div>\n",
              "      <button class=\"colab-df-convert\" onclick=\"convertToInteractive('df-940e9b72-ee09-4735-8361-10cc15e07e06')\"\n",
              "              title=\"Convert this dataframe to an interactive table.\"\n",
              "              style=\"display:none;\">\n",
              "        \n",
              "  <svg xmlns=\"http://www.w3.org/2000/svg\" height=\"24px\"viewBox=\"0 0 24 24\"\n",
              "       width=\"24px\">\n",
              "    <path d=\"M0 0h24v24H0V0z\" fill=\"none\"/>\n",
              "    <path d=\"M18.56 5.44l.94 2.06.94-2.06 2.06-.94-2.06-.94-.94-2.06-.94 2.06-2.06.94zm-11 1L8.5 8.5l.94-2.06 2.06-.94-2.06-.94L8.5 2.5l-.94 2.06-2.06.94zm10 10l.94 2.06.94-2.06 2.06-.94-2.06-.94-.94-2.06-.94 2.06-2.06.94z\"/><path d=\"M17.41 7.96l-1.37-1.37c-.4-.4-.92-.59-1.43-.59-.52 0-1.04.2-1.43.59L10.3 9.45l-7.72 7.72c-.78.78-.78 2.05 0 2.83L4 21.41c.39.39.9.59 1.41.59.51 0 1.02-.2 1.41-.59l7.78-7.78 2.81-2.81c.8-.78.8-2.07 0-2.86zM5.41 20L4 18.59l7.72-7.72 1.47 1.35L5.41 20z\"/>\n",
              "  </svg>\n",
              "      </button>\n",
              "      \n",
              "  <style>\n",
              "    .colab-df-container {\n",
              "      display:flex;\n",
              "      flex-wrap:wrap;\n",
              "      gap: 12px;\n",
              "    }\n",
              "\n",
              "    .colab-df-convert {\n",
              "      background-color: #E8F0FE;\n",
              "      border: none;\n",
              "      border-radius: 50%;\n",
              "      cursor: pointer;\n",
              "      display: none;\n",
              "      fill: #1967D2;\n",
              "      height: 32px;\n",
              "      padding: 0 0 0 0;\n",
              "      width: 32px;\n",
              "    }\n",
              "\n",
              "    .colab-df-convert:hover {\n",
              "      background-color: #E2EBFA;\n",
              "      box-shadow: 0px 1px 2px rgba(60, 64, 67, 0.3), 0px 1px 3px 1px rgba(60, 64, 67, 0.15);\n",
              "      fill: #174EA6;\n",
              "    }\n",
              "\n",
              "    [theme=dark] .colab-df-convert {\n",
              "      background-color: #3B4455;\n",
              "      fill: #D2E3FC;\n",
              "    }\n",
              "\n",
              "    [theme=dark] .colab-df-convert:hover {\n",
              "      background-color: #434B5C;\n",
              "      box-shadow: 0px 1px 3px 1px rgba(0, 0, 0, 0.15);\n",
              "      filter: drop-shadow(0px 1px 2px rgba(0, 0, 0, 0.3));\n",
              "      fill: #FFFFFF;\n",
              "    }\n",
              "  </style>\n",
              "\n",
              "      <script>\n",
              "        const buttonEl =\n",
              "          document.querySelector('#df-940e9b72-ee09-4735-8361-10cc15e07e06 button.colab-df-convert');\n",
              "        buttonEl.style.display =\n",
              "          google.colab.kernel.accessAllowed ? 'block' : 'none';\n",
              "\n",
              "        async function convertToInteractive(key) {\n",
              "          const element = document.querySelector('#df-940e9b72-ee09-4735-8361-10cc15e07e06');\n",
              "          const dataTable =\n",
              "            await google.colab.kernel.invokeFunction('convertToInteractive',\n",
              "                                                     [key], {});\n",
              "          if (!dataTable) return;\n",
              "\n",
              "          const docLinkHtml = 'Like what you see? Visit the ' +\n",
              "            '<a target=\"_blank\" href=https://colab.research.google.com/notebooks/data_table.ipynb>data table notebook</a>'\n",
              "            + ' to learn more about interactive tables.';\n",
              "          element.innerHTML = '';\n",
              "          dataTable['output_type'] = 'display_data';\n",
              "          await google.colab.output.renderOutput(dataTable, element);\n",
              "          const docLink = document.createElement('div');\n",
              "          docLink.innerHTML = docLinkHtml;\n",
              "          element.appendChild(docLink);\n",
              "        }\n",
              "      </script>\n",
              "    </div>\n",
              "  </div>\n",
              "  "
            ]
          },
          "metadata": {},
          "execution_count": 30
        }
      ]
    },
    {
      "cell_type": "code",
      "source": [
        "# Define the target and feature variables\n",
        "df['sum_score'] = df[df.filter(regex='updrs').columns].sum(axis=1)\n",
        "df.drop(df.filter(regex='updrs').columns, axis=1,inplace =True)\n",
        "target_variable = ['sum_score']\n",
        "# target_variable = ['updrs_1', 'updrs_2', 'updrs_3', 'updrs_4']\n",
        "feature_variables = [x for x in df.columns if x != target_variable]"
      ],
      "metadata": {
        "id": "B44bhelDcl-z"
      },
      "execution_count": 31,
      "outputs": []
    },
    {
      "cell_type": "code",
      "source": [
        "sum_score"
      ],
      "metadata": {
        "id": "9rr3m467M2a9",
        "outputId": "a818e792-2c0f-4156-bcd1-ed97d265a3a8",
        "colab": {
          "base_uri": "https://localhost:8080/"
        }
      },
      "execution_count": 32,
      "outputs": [
        {
          "output_type": "execute_result",
          "data": {
            "text/plain": [
              "0       31.0\n",
              "1       52.0\n",
              "2       61.0\n",
              "3       86.0\n",
              "4       31.0\n",
              "        ... \n",
              "1063    75.0\n",
              "1064    24.0\n",
              "1065    25.0\n",
              "1066    12.0\n",
              "1067    26.0\n",
              "Length: 1068, dtype: float64"
            ]
          },
          "metadata": {},
          "execution_count": 32
        }
      ]
    },
    {
      "cell_type": "code",
      "source": [
        "# Split the data into training and testing sets\n",
        "X_train, X_test, y_train, y_test = train_test_split(df[feature_variables], df[target_variable], test_size=0.2, random_state=1)\n"
      ],
      "metadata": {
        "id": "KG49wjQAcmBO"
      },
      "execution_count": 33,
      "outputs": []
    },
    {
      "cell_type": "code",
      "source": [
        "# Create a Random Forest classifier instance\n",
        "rf = RandomForestClassifier(n_estimators=2000, max_depth=10, min_samples_split=5, min_samples_leaf=3,random_state=1)"
      ],
      "metadata": {
        "id": "IIso7OtgcmDU"
      },
      "execution_count": 34,
      "outputs": []
    },
    {
      "cell_type": "code",
      "source": [
        "# Train the Random Forest classifier on the training data\n",
        "#rf.fit(X_train, y_train)"
      ],
      "metadata": {
        "id": "dU60TqLkcmHl"
      },
      "execution_count": 35,
      "outputs": []
    },
    {
      "cell_type": "code",
      "source": [
        "# Train a separate Random Forest classifier for each target variable\n",
        "models = {}\n",
        "for target in target_variable:\n",
        "    model = RandomForestClassifier(n_estimators=1000, max_depth=10, min_samples_split=5, min_samples_leaf=3,random_state=1)\n",
        "    model.fit(X_train, y_train[target])\n",
        "    y_pred = model.predict(X_test)\n",
        "    f1 = f1_score(y_test[target], y_pred, average='weighted')\n",
        "    print(\"F1 score for {} = {}\".format(target, f1))\n",
        "    models[target] = model"
      ],
      "metadata": {
        "colab": {
          "base_uri": "https://localhost:8080/"
        },
        "id": "Bw0Jdiu8oGLg",
        "outputId": "91ae5dfc-19bc-4fa1-86f7-24aff25a7e18"
      },
      "execution_count": 36,
      "outputs": [
        {
          "output_type": "stream",
          "name": "stdout",
          "text": [
            "F1 score for sum_score = 0.08625593793818093\n"
          ]
        }
      ]
    },
    {
      "cell_type": "code",
      "source": [
        "# Make predictions on the testing data\n",
        "y_pred = rf.predict(X_test)"
      ],
      "metadata": {
        "id": "BGImBOxWcmMc",
        "colab": {
          "base_uri": "https://localhost:8080/",
          "height": 329
        },
        "outputId": "50958e2a-c9da-41f5-d409-947f62279c81"
      },
      "execution_count": 44,
      "outputs": [
        {
          "output_type": "error",
          "ename": "NotFittedError",
          "evalue": "ignored",
          "traceback": [
            "\u001b[0;31m---------------------------------------------------------------------------\u001b[0m",
            "\u001b[0;31mNotFittedError\u001b[0m                            Traceback (most recent call last)",
            "\u001b[0;32m<ipython-input-44-3450716a7a92>\u001b[0m in \u001b[0;36m<cell line: 2>\u001b[0;34m()\u001b[0m\n\u001b[1;32m      1\u001b[0m \u001b[0;31m# Make predictions on the testing data\u001b[0m\u001b[0;34m\u001b[0m\u001b[0;34m\u001b[0m\u001b[0m\n\u001b[0;32m----> 2\u001b[0;31m \u001b[0my_pred\u001b[0m \u001b[0;34m=\u001b[0m \u001b[0mrf\u001b[0m\u001b[0;34m.\u001b[0m\u001b[0mpredict\u001b[0m\u001b[0;34m(\u001b[0m\u001b[0mX_test\u001b[0m\u001b[0;34m)\u001b[0m\u001b[0;34m\u001b[0m\u001b[0;34m\u001b[0m\u001b[0m\n\u001b[0m",
            "\u001b[0;32m/usr/local/lib/python3.9/dist-packages/sklearn/ensemble/_forest.py\u001b[0m in \u001b[0;36mpredict\u001b[0;34m(self, X)\u001b[0m\n\u001b[1;32m    818\u001b[0m             \u001b[0mThe\u001b[0m \u001b[0mpredicted\u001b[0m \u001b[0mclasses\u001b[0m\u001b[0;34m.\u001b[0m\u001b[0;34m\u001b[0m\u001b[0;34m\u001b[0m\u001b[0m\n\u001b[1;32m    819\u001b[0m         \"\"\"\n\u001b[0;32m--> 820\u001b[0;31m         \u001b[0mproba\u001b[0m \u001b[0;34m=\u001b[0m \u001b[0mself\u001b[0m\u001b[0;34m.\u001b[0m\u001b[0mpredict_proba\u001b[0m\u001b[0;34m(\u001b[0m\u001b[0mX\u001b[0m\u001b[0;34m)\u001b[0m\u001b[0;34m\u001b[0m\u001b[0;34m\u001b[0m\u001b[0m\n\u001b[0m\u001b[1;32m    821\u001b[0m \u001b[0;34m\u001b[0m\u001b[0m\n\u001b[1;32m    822\u001b[0m         \u001b[0;32mif\u001b[0m \u001b[0mself\u001b[0m\u001b[0;34m.\u001b[0m\u001b[0mn_outputs_\u001b[0m \u001b[0;34m==\u001b[0m \u001b[0;36m1\u001b[0m\u001b[0;34m:\u001b[0m\u001b[0;34m\u001b[0m\u001b[0;34m\u001b[0m\u001b[0m\n",
            "\u001b[0;32m/usr/local/lib/python3.9/dist-packages/sklearn/ensemble/_forest.py\u001b[0m in \u001b[0;36mpredict_proba\u001b[0;34m(self, X)\u001b[0m\n\u001b[1;32m    858\u001b[0m             \u001b[0mclasses\u001b[0m \u001b[0mcorresponds\u001b[0m \u001b[0mto\u001b[0m \u001b[0mthat\u001b[0m \u001b[0;32min\u001b[0m \u001b[0mthe\u001b[0m \u001b[0mattribute\u001b[0m \u001b[0;34m:\u001b[0m\u001b[0mterm\u001b[0m\u001b[0;34m:\u001b[0m\u001b[0;31m`\u001b[0m\u001b[0mclasses_\u001b[0m\u001b[0;31m`\u001b[0m\u001b[0;34m.\u001b[0m\u001b[0;34m\u001b[0m\u001b[0;34m\u001b[0m\u001b[0m\n\u001b[1;32m    859\u001b[0m         \"\"\"\n\u001b[0;32m--> 860\u001b[0;31m         \u001b[0mcheck_is_fitted\u001b[0m\u001b[0;34m(\u001b[0m\u001b[0mself\u001b[0m\u001b[0;34m)\u001b[0m\u001b[0;34m\u001b[0m\u001b[0;34m\u001b[0m\u001b[0m\n\u001b[0m\u001b[1;32m    861\u001b[0m         \u001b[0;31m# Check data\u001b[0m\u001b[0;34m\u001b[0m\u001b[0;34m\u001b[0m\u001b[0m\n\u001b[1;32m    862\u001b[0m         \u001b[0mX\u001b[0m \u001b[0;34m=\u001b[0m \u001b[0mself\u001b[0m\u001b[0;34m.\u001b[0m\u001b[0m_validate_X_predict\u001b[0m\u001b[0;34m(\u001b[0m\u001b[0mX\u001b[0m\u001b[0;34m)\u001b[0m\u001b[0;34m\u001b[0m\u001b[0;34m\u001b[0m\u001b[0m\n",
            "\u001b[0;32m/usr/local/lib/python3.9/dist-packages/sklearn/utils/validation.py\u001b[0m in \u001b[0;36mcheck_is_fitted\u001b[0;34m(estimator, attributes, msg, all_or_any)\u001b[0m\n\u001b[1;32m   1388\u001b[0m \u001b[0;34m\u001b[0m\u001b[0m\n\u001b[1;32m   1389\u001b[0m     \u001b[0;32mif\u001b[0m \u001b[0;32mnot\u001b[0m \u001b[0mfitted\u001b[0m\u001b[0;34m:\u001b[0m\u001b[0;34m\u001b[0m\u001b[0;34m\u001b[0m\u001b[0m\n\u001b[0;32m-> 1390\u001b[0;31m         \u001b[0;32mraise\u001b[0m \u001b[0mNotFittedError\u001b[0m\u001b[0;34m(\u001b[0m\u001b[0mmsg\u001b[0m \u001b[0;34m%\u001b[0m \u001b[0;34m{\u001b[0m\u001b[0;34m\"name\"\u001b[0m\u001b[0;34m:\u001b[0m \u001b[0mtype\u001b[0m\u001b[0;34m(\u001b[0m\u001b[0mestimator\u001b[0m\u001b[0;34m)\u001b[0m\u001b[0;34m.\u001b[0m\u001b[0m__name__\u001b[0m\u001b[0;34m}\u001b[0m\u001b[0;34m)\u001b[0m\u001b[0;34m\u001b[0m\u001b[0;34m\u001b[0m\u001b[0m\n\u001b[0m\u001b[1;32m   1391\u001b[0m \u001b[0;34m\u001b[0m\u001b[0m\n\u001b[1;32m   1392\u001b[0m \u001b[0;34m\u001b[0m\u001b[0m\n",
            "\u001b[0;31mNotFittedError\u001b[0m: This RandomForestClassifier instance is not fitted yet. Call 'fit' with appropriate arguments before using this estimator."
          ]
        }
      ]
    },
    {
      "cell_type": "code",
      "source": [
        "# Calculate the accuracy score\n",
        "mse = mean_squared_error(y_test, y_pred)\n",
        "print('Mean Squared Error:', mse)"
      ],
      "metadata": {
        "id": "2SCdrUrAc23W",
        "outputId": "d6b4475e-c65b-4bc0-874e-bfb640c2c58f",
        "colab": {
          "base_uri": "https://localhost:8080/"
        }
      },
      "execution_count": 39,
      "outputs": [
        {
          "output_type": "stream",
          "name": "stdout",
          "text": [
            "Mean Squared Error: 1179.5046728971963\n"
          ]
        }
      ]
    },
    {
      "cell_type": "code",
      "source": [
        "y_pred"
      ],
      "metadata": {
        "id": "jooR7TgCMMbA",
        "outputId": "bb852192-6d21-4864-9177-b4d99c1959b8",
        "colab": {
          "base_uri": "https://localhost:8080/"
        }
      },
      "execution_count": 38,
      "outputs": [
        {
          "output_type": "execute_result",
          "data": {
            "text/plain": [
              "array([ 3.,  6.,  2.,  6.,  5.,  4.,  1., 16.,  5., 40.,  5.,  5.,  8.,\n",
              "       36.,  6.,  6., 15.,  4.,  3.,  6., 40., 38.,  1., 17.,  5.,  6.,\n",
              "        1., 12.,  6.,  5., 34.,  4., 17., 15.,  1.,  3., 40.,  6., 40.,\n",
              "        4.,  2.,  4.,  3.,  5.,  6.,  4., 44.,  6.,  1.,  5.,  7.,  1.,\n",
              "        4.,  1.,  5., 40.,  3.,  2.,  5.,  6.,  5.,  6., 40.,  1., 19.,\n",
              "        4.,  6.,  5.,  4.,  3.,  2.,  2.,  2., 75.,  2.,  2.,  4.,  5.,\n",
              "        4.,  5.,  4.,  5.,  6.,  6.,  3.,  5.,  4.,  3.,  5.,  4.,  6.,\n",
              "        5.,  6.,  4.,  6.,  6.,  5.,  5.,  2.,  6.,  3.,  3., 38., 34.,\n",
              "       40.,  5., 28.,  3.,  1.,  5.,  1.,  5., 17., 25.,  1.,  2.,  5.,\n",
              "        3.,  5.,  5.,  8.,  6.,  5., 36.,  4.,  2., 38.,  3.,  5.,  5.,\n",
              "        2., 34., 34.,  3., 40.,  5.,  4.,  4.,  5.,  1.,  5.,  3.,  2.,\n",
              "        6.,  4., 40.,  3., 26., 39.,  5.,  4.,  3.,  6.,  5., 36.,  4.,\n",
              "        4.,  2.,  2.,  4., 39.,  4.,  5., 34.,  2.,  8.,  5.,  3.,  6.,\n",
              "        4.,  1.,  3., 31.,  6.,  5.,  4.,  2.,  1.,  8.,  2.,  5.,  4.,\n",
              "        4., 31.,  5., 36.,  5.,  2.,  5.,  2.,  2.,  3.,  2., 33.,  5.,\n",
              "        6.,  5.,  5.,  6.,  5., 40.,  3.,  3.,  5.,  6.,  5.,  2.,  6.,\n",
              "        3.,  3.,  3.,  1.,  6.,  4.])"
            ]
          },
          "metadata": {},
          "execution_count": 38
        }
      ]
    },
    {
      "cell_type": "code",
      "source": [
        "y_test"
      ],
      "metadata": {
        "id": "rnCWJmi8MZrq",
        "outputId": "5c3bf30d-0e17-4df3-880e-36d98130336a",
        "colab": {
          "base_uri": "https://localhost:8080/",
          "height": 424
        }
      },
      "execution_count": 40,
      "outputs": [
        {
          "output_type": "execute_result",
          "data": {
            "text/plain": [
              "     sum_score\n",
              "457       21.0\n",
              "347       74.0\n",
              "639        2.0\n",
              "833        7.0\n",
              "437        9.0\n",
              "..         ...\n",
              "674       30.0\n",
              "189       21.0\n",
              "619       77.0\n",
              "658       54.0\n",
              "758       51.0\n",
              "\n",
              "[214 rows x 1 columns]"
            ],
            "text/html": [
              "\n",
              "  <div id=\"df-6729597b-f071-4886-8f6f-fac0049fea46\">\n",
              "    <div class=\"colab-df-container\">\n",
              "      <div>\n",
              "<style scoped>\n",
              "    .dataframe tbody tr th:only-of-type {\n",
              "        vertical-align: middle;\n",
              "    }\n",
              "\n",
              "    .dataframe tbody tr th {\n",
              "        vertical-align: top;\n",
              "    }\n",
              "\n",
              "    .dataframe thead th {\n",
              "        text-align: right;\n",
              "    }\n",
              "</style>\n",
              "<table border=\"1\" class=\"dataframe\">\n",
              "  <thead>\n",
              "    <tr style=\"text-align: right;\">\n",
              "      <th></th>\n",
              "      <th>sum_score</th>\n",
              "    </tr>\n",
              "  </thead>\n",
              "  <tbody>\n",
              "    <tr>\n",
              "      <th>457</th>\n",
              "      <td>21.0</td>\n",
              "    </tr>\n",
              "    <tr>\n",
              "      <th>347</th>\n",
              "      <td>74.0</td>\n",
              "    </tr>\n",
              "    <tr>\n",
              "      <th>639</th>\n",
              "      <td>2.0</td>\n",
              "    </tr>\n",
              "    <tr>\n",
              "      <th>833</th>\n",
              "      <td>7.0</td>\n",
              "    </tr>\n",
              "    <tr>\n",
              "      <th>437</th>\n",
              "      <td>9.0</td>\n",
              "    </tr>\n",
              "    <tr>\n",
              "      <th>...</th>\n",
              "      <td>...</td>\n",
              "    </tr>\n",
              "    <tr>\n",
              "      <th>674</th>\n",
              "      <td>30.0</td>\n",
              "    </tr>\n",
              "    <tr>\n",
              "      <th>189</th>\n",
              "      <td>21.0</td>\n",
              "    </tr>\n",
              "    <tr>\n",
              "      <th>619</th>\n",
              "      <td>77.0</td>\n",
              "    </tr>\n",
              "    <tr>\n",
              "      <th>658</th>\n",
              "      <td>54.0</td>\n",
              "    </tr>\n",
              "    <tr>\n",
              "      <th>758</th>\n",
              "      <td>51.0</td>\n",
              "    </tr>\n",
              "  </tbody>\n",
              "</table>\n",
              "<p>214 rows × 1 columns</p>\n",
              "</div>\n",
              "      <button class=\"colab-df-convert\" onclick=\"convertToInteractive('df-6729597b-f071-4886-8f6f-fac0049fea46')\"\n",
              "              title=\"Convert this dataframe to an interactive table.\"\n",
              "              style=\"display:none;\">\n",
              "        \n",
              "  <svg xmlns=\"http://www.w3.org/2000/svg\" height=\"24px\"viewBox=\"0 0 24 24\"\n",
              "       width=\"24px\">\n",
              "    <path d=\"M0 0h24v24H0V0z\" fill=\"none\"/>\n",
              "    <path d=\"M18.56 5.44l.94 2.06.94-2.06 2.06-.94-2.06-.94-.94-2.06-.94 2.06-2.06.94zm-11 1L8.5 8.5l.94-2.06 2.06-.94-2.06-.94L8.5 2.5l-.94 2.06-2.06.94zm10 10l.94 2.06.94-2.06 2.06-.94-2.06-.94-.94-2.06-.94 2.06-2.06.94z\"/><path d=\"M17.41 7.96l-1.37-1.37c-.4-.4-.92-.59-1.43-.59-.52 0-1.04.2-1.43.59L10.3 9.45l-7.72 7.72c-.78.78-.78 2.05 0 2.83L4 21.41c.39.39.9.59 1.41.59.51 0 1.02-.2 1.41-.59l7.78-7.78 2.81-2.81c.8-.78.8-2.07 0-2.86zM5.41 20L4 18.59l7.72-7.72 1.47 1.35L5.41 20z\"/>\n",
              "  </svg>\n",
              "      </button>\n",
              "      \n",
              "  <style>\n",
              "    .colab-df-container {\n",
              "      display:flex;\n",
              "      flex-wrap:wrap;\n",
              "      gap: 12px;\n",
              "    }\n",
              "\n",
              "    .colab-df-convert {\n",
              "      background-color: #E8F0FE;\n",
              "      border: none;\n",
              "      border-radius: 50%;\n",
              "      cursor: pointer;\n",
              "      display: none;\n",
              "      fill: #1967D2;\n",
              "      height: 32px;\n",
              "      padding: 0 0 0 0;\n",
              "      width: 32px;\n",
              "    }\n",
              "\n",
              "    .colab-df-convert:hover {\n",
              "      background-color: #E2EBFA;\n",
              "      box-shadow: 0px 1px 2px rgba(60, 64, 67, 0.3), 0px 1px 3px 1px rgba(60, 64, 67, 0.15);\n",
              "      fill: #174EA6;\n",
              "    }\n",
              "\n",
              "    [theme=dark] .colab-df-convert {\n",
              "      background-color: #3B4455;\n",
              "      fill: #D2E3FC;\n",
              "    }\n",
              "\n",
              "    [theme=dark] .colab-df-convert:hover {\n",
              "      background-color: #434B5C;\n",
              "      box-shadow: 0px 1px 3px 1px rgba(0, 0, 0, 0.15);\n",
              "      filter: drop-shadow(0px 1px 2px rgba(0, 0, 0, 0.3));\n",
              "      fill: #FFFFFF;\n",
              "    }\n",
              "  </style>\n",
              "\n",
              "      <script>\n",
              "        const buttonEl =\n",
              "          document.querySelector('#df-6729597b-f071-4886-8f6f-fac0049fea46 button.colab-df-convert');\n",
              "        buttonEl.style.display =\n",
              "          google.colab.kernel.accessAllowed ? 'block' : 'none';\n",
              "\n",
              "        async function convertToInteractive(key) {\n",
              "          const element = document.querySelector('#df-6729597b-f071-4886-8f6f-fac0049fea46');\n",
              "          const dataTable =\n",
              "            await google.colab.kernel.invokeFunction('convertToInteractive',\n",
              "                                                     [key], {});\n",
              "          if (!dataTable) return;\n",
              "\n",
              "          const docLinkHtml = 'Like what you see? Visit the ' +\n",
              "            '<a target=\"_blank\" href=https://colab.research.google.com/notebooks/data_table.ipynb>data table notebook</a>'\n",
              "            + ' to learn more about interactive tables.';\n",
              "          element.innerHTML = '';\n",
              "          dataTable['output_type'] = 'display_data';\n",
              "          await google.colab.output.renderOutput(dataTable, element);\n",
              "          const docLink = document.createElement('div');\n",
              "          docLink.innerHTML = docLinkHtml;\n",
              "          element.appendChild(docLink);\n",
              "        }\n",
              "      </script>\n",
              "    </div>\n",
              "  </div>\n",
              "  "
            ]
          },
          "metadata": {},
          "execution_count": 40
        }
      ]
    },
    {
      "cell_type": "code",
      "source": [
        "plt.scatter(y_pred, y_test)"
      ],
      "metadata": {
        "colab": {
          "base_uri": "https://localhost:8080/",
          "height": 447
        },
        "id": "hkzcSn01Kcjv",
        "outputId": "2fe339a4-1f12-4792-cd66-9917cb243c23"
      },
      "execution_count": 41,
      "outputs": [
        {
          "output_type": "execute_result",
          "data": {
            "text/plain": [
              "<matplotlib.collections.PathCollection at 0x7f3d9d648850>"
            ]
          },
          "metadata": {},
          "execution_count": 41
        },
        {
          "output_type": "display_data",
          "data": {
            "text/plain": [
              "<Figure size 640x480 with 1 Axes>"
            ],
            "image/png": "[encoded data removed]"
          },
          "metadata": {}
        }
      ]
    },
    {
      "cell_type": "code",
      "source": [
        "# Evaluate the model using mean squared error\n",
        "mse = mean_squared_error(y_test, y_pred)\n",
        "print(f\"Mean Squared Error: {mse}\")"
      ],
      "metadata": {
        "colab": {
          "base_uri": "https://localhost:8080/"
        },
        "id": "Uwy9oW3wgZv6",
        "outputId": "2fffd40b-61f1-4ddc-d8a1-f18730475df9"
      },
      "execution_count": 42,
      "outputs": [
        {
          "output_type": "stream",
          "name": "stdout",
          "text": [
            "Mean Squared Error: 1179.5046728971963\n"
          ]
        }
      ]
    },
    {
      "cell_type": "code",
      "source": [
        "# Assuming y_pred and y_test are both arrays of shape (n_samples, n_classes)\n",
        "# f1_scores = []\n",
        "# for i in range(y_test.shape[1]):\n",
        "#     f1 = f1_score(y_test[:,i], y_pred[:,i], average='weighted')\n",
        "#     f1_scores.append(f1)\n",
        "\n",
        "# mean_f1 = sum(f1_scores) / len(f1_scores)\n",
        "\n",
        "# print(f\"Mean F1 score: {mean_f1}\")"
      ],
      "metadata": {
        "id": "1HK6pOlnhTMY"
      },
      "execution_count": null,
      "outputs": []
    },
    {
      "cell_type": "code",
      "source": [
        "# Print the confusion matrix and classification report\n",
        "print(\"Confusion Matrix:\")\n",
        "print(confusion_matrix(y_test, y_pred))\n",
        "print(\"Classification Report:\")\n",
        "print(classification_report(y_test, y_pred))\n"
      ],
      "metadata": {
        "colab": {
          "base_uri": "https://localhost:8080/"
        },
        "id": "KzSbnm2cc2-M",
        "outputId": "13a0cae4-7e69-45f7-9978-48f4f71e8247"
      },
      "execution_count": 43,
      "outputs": [
        {
          "output_type": "stream",
          "name": "stdout",
          "text": [
            "Confusion Matrix:\n",
            "[[0 1 1 ... 0 0 0]\n",
            " [0 5 1 ... 0 0 0]\n",
            " [0 2 9 ... 0 0 0]\n",
            " ...\n",
            " [0 0 1 ... 0 0 0]\n",
            " [0 0 0 ... 0 0 0]\n",
            " [0 0 0 ... 0 0 0]]\n",
            "Classification Report:\n",
            "              precision    recall  f1-score   support\n",
            "\n",
            "         0.0       0.00      0.00      0.00         2\n",
            "         1.0       0.33      0.83      0.48         6\n",
            "         2.0       0.39      0.69      0.50        13\n",
            "         3.0       0.32      0.67      0.43        12\n",
            "         4.0       0.14      0.57      0.22         7\n",
            "         5.0       0.04      0.67      0.08         3\n",
            "         6.0       0.10      1.00      0.18         3\n",
            "         7.0       0.00      0.00      0.00         4\n",
            "         8.0       0.00      0.00      0.00         7\n",
            "         9.0       0.00      0.00      0.00         2\n",
            "        11.0       0.00      0.00      0.00         1\n",
            "        12.0       0.00      0.00      0.00         3\n",
            "        13.0       0.00      0.00      0.00         1\n",
            "        14.0       0.00      0.00      0.00         1\n",
            "        15.0       0.50      0.50      0.50         2\n",
            "        16.0       0.00      0.00      0.00         3\n",
            "        17.0       0.00      0.00      0.00         3\n",
            "        18.0       0.00      0.00      0.00         4\n",
            "        19.0       0.00      0.00      0.00         2\n",
            "        20.0       0.00      0.00      0.00         2\n",
            "        21.0       0.00      0.00      0.00         4\n",
            "        22.0       0.00      0.00      0.00         3\n",
            "        23.0       0.00      0.00      0.00         2\n",
            "        24.0       0.00      0.00      0.00         2\n",
            "        25.0       0.00      0.00      0.00         3\n",
            "        26.0       0.00      0.00      0.00         3\n",
            "        27.0       0.00      0.00      0.00         3\n",
            "        28.0       0.00      0.00      0.00         3\n",
            "        29.0       0.00      0.00      0.00         1\n",
            "        30.0       0.00      0.00      0.00         1\n",
            "        31.0       0.00      0.00      0.00         1\n",
            "        32.0       0.00      0.00      0.00         2\n",
            "        33.0       0.00      0.00      0.00         5\n",
            "        34.0       0.20      0.50      0.29         2\n",
            "        35.0       0.00      0.00      0.00         5\n",
            "        36.0       0.00      0.00      0.00         4\n",
            "        37.0       0.00      0.00      0.00         3\n",
            "        38.0       0.00      0.00      0.00         2\n",
            "        39.0       0.00      0.00      0.00         4\n",
            "        40.0       0.00      0.00      0.00         7\n",
            "        41.0       0.00      0.00      0.00         5\n",
            "        42.0       0.00      0.00      0.00         2\n",
            "        43.0       0.00      0.00      0.00         5\n",
            "        44.0       0.00      0.00      0.00         2\n",
            "        45.0       0.00      0.00      0.00         2\n",
            "        46.0       0.00      0.00      0.00         2\n",
            "        48.0       0.00      0.00      0.00         3\n",
            "        49.0       0.00      0.00      0.00         2\n",
            "        50.0       0.00      0.00      0.00         4\n",
            "        51.0       0.00      0.00      0.00         1\n",
            "        52.0       0.00      0.00      0.00         3\n",
            "        53.0       0.00      0.00      0.00         1\n",
            "        54.0       0.00      0.00      0.00         1\n",
            "        55.0       0.00      0.00      0.00         1\n",
            "        57.0       0.00      0.00      0.00         6\n",
            "        58.0       0.00      0.00      0.00         2\n",
            "        59.0       0.00      0.00      0.00         2\n",
            "        60.0       0.00      0.00      0.00         1\n",
            "        61.0       0.00      0.00      0.00         1\n",
            "        62.0       0.00      0.00      0.00         1\n",
            "        63.0       0.00      0.00      0.00         1\n",
            "        65.0       0.00      0.00      0.00         1\n",
            "        68.0       0.00      0.00      0.00         3\n",
            "        69.0       0.00      0.00      0.00         2\n",
            "        70.0       0.00      0.00      0.00         2\n",
            "        71.0       0.00      0.00      0.00         1\n",
            "        74.0       0.00      0.00      0.00         2\n",
            "        75.0       0.00      0.00      0.00         1\n",
            "        76.0       0.00      0.00      0.00         2\n",
            "        77.0       0.00      0.00      0.00         1\n",
            "        80.0       0.00      0.00      0.00         1\n",
            "        81.0       0.00      0.00      0.00         1\n",
            "        85.0       0.00      0.00      0.00         1\n",
            "        86.0       0.00      0.00      0.00         1\n",
            "        91.0       0.00      0.00      0.00         2\n",
            "        97.0       0.00      0.00      0.00         1\n",
            "        98.0       0.00      0.00      0.00         1\n",
            "       103.0       0.00      0.00      0.00         1\n",
            "       119.0       0.00      0.00      0.00         1\n",
            "\n",
            "    accuracy                           0.15       214\n",
            "   macro avg       0.03      0.07      0.03       214\n",
            "weighted avg       0.06      0.15      0.09       214\n",
            "\n"
          ]
        },
        {
          "output_type": "stream",
          "name": "stderr",
          "text": [
            "/usr/local/lib/python3.9/dist-packages/sklearn/metrics/_classification.py:1344: UndefinedMetricWarning: Precision and F-score are ill-defined and being set to 0.0 in labels with no predicted samples. Use `zero_division` parameter to control this behavior.\n",
            "  _warn_prf(average, modifier, msg_start, len(result))\n",
            "/usr/local/lib/python3.9/dist-packages/sklearn/metrics/_classification.py:1344: UndefinedMetricWarning: Precision and F-score are ill-defined and being set to 0.0 in labels with no predicted samples. Use `zero_division` parameter to control this behavior.\n",
            "  _warn_prf(average, modifier, msg_start, len(result))\n",
            "/usr/local/lib/python3.9/dist-packages/sklearn/metrics/_classification.py:1344: UndefinedMetricWarning: Precision and F-score are ill-defined and being set to 0.0 in labels with no predicted samples. Use `zero_division` parameter to control this behavior.\n",
            "  _warn_prf(average, modifier, msg_start, len(result))\n"
          ]
        }
      ]
    },
    {
      "cell_type": "code",
      "source": [],
      "metadata": {
        "id": "7cx-A-sjc3CN"
      },
      "execution_count": null,
      "outputs": []
    },
    {
      "cell_type": "code",
      "source": [],
      "metadata": {
        "id": "5nWNLnrkc3E-"
      },
      "execution_count": null,
      "outputs": []
    },
    {
      "cell_type": "code",
      "source": [],
      "metadata": {
        "id": "x9PoRG5_cmPJ"
      },
      "execution_count": null,
      "outputs": []
    }
  ]
}