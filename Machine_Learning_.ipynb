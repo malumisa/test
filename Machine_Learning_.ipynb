{
  "cells": [
    {
      "cell_type": "markdown",
      "metadata": {
        "id": "view-in-github",
        "colab_type": "text"
      },
      "source": [
        "<a href=\"https://colab.research.google.com/github/malumisa/test/blob/main/Machine_Learning_.ipynb\" target=\"_parent\"><img src=\"https://colab.research.google.com/assets/colab-badge.svg\" alt=\"Open In Colab\"/></a>"
      ]
    },
    {
      "cell_type": "code",
      "execution_count": 1,
      "id": "2e8aadbd",
      "metadata": {
        "scrolled": true,
        "id": "2e8aadbd"
      },
      "outputs": [],
      "source": [
        "# Import our dependencies\n",
        "from sklearn.model_selection import train_test_split\n",
        "from sklearn.preprocessing import StandardScaler\n",
        "from sklearn.feature_selection import VarianceThreshold\n",
        "import pandas as pd\n",
        "import numpy as np\n",
        "import tensorflow as tf\n",
        "import keras\n",
        "import seaborn as sns \n",
        "import matplotlib.pyplot as plt\n",
        "from tensorflow.keras import optimizers\n",
        "from sklearn.metrics import balanced_accuracy_score, confusion_matrix, classification_report"
      ]
    },
    {
      "cell_type": "code",
      "execution_count": 2,
      "id": "322dd30b",
      "metadata": {
        "id": "322dd30b"
      },
      "outputs": [],
      "source": [
        "df = pd.read_csv('/content/Result_Protein_Peptide_Combine.csv')"
      ]
    },
    {
      "cell_type": "code",
      "execution_count": 3,
      "id": "c0ef05c8",
      "metadata": {
        "scrolled": true,
        "colab": {
          "base_uri": "https://localhost:8080/",
          "height": 300
        },
        "id": "c0ef05c8",
        "outputId": "3932cac2-bfc4-4880-d20c-781ff8f2f241"
      },
      "outputs": [
        {
          "output_type": "execute_result",
          "data": {
            "text/plain": [
              "   visit_month  updrs_1  updrs_2  updrs_3  updrs_4  On  AADDTWEPFASGK  \\\n",
              "0            0     10.0      6.0     15.0      0.0   0      8984260.0   \n",
              "1            6      8.0     10.0     34.0      0.0   0      8279770.0   \n",
              "2           12     10.0     10.0     41.0      0.0   1      8382390.0   \n",
              "3           36     17.0     18.0     51.0      0.0   1     10671500.0   \n",
              "4            6      8.0      2.0     21.0      0.0   0      6177730.0   \n",
              "\n",
              "   AAFGQGSGPIMLDEVQC(UniMod_4)TGTEASLADC(UniMod_4)K  \\\n",
              "0                                           53855.6   \n",
              "1                                           45251.9   \n",
              "2                                           53000.9   \n",
              "3                                           58108.4   \n",
              "4                                           42682.6   \n",
              "\n",
              "   AAFTEC(UniMod_4)C(UniMod_4)QAADK  AANEVSSADVK  ...  62329  62437  62723  \\\n",
              "0                         8579740.0          0.0  ...      0      0      0   \n",
              "1                         8655890.0      49927.5  ...      0      0      0   \n",
              "2                         8995640.0      45519.2  ...      0      0      0   \n",
              "3                         9985420.0      52374.0  ...      0      0      0   \n",
              "4                         3596660.0      25698.8  ...      0      0      0   \n",
              "\n",
              "   62732  62792  63875  63889  64669  64674  65043  \n",
              "0      0      0      0      0      0      0      0  \n",
              "1      0      0      0      0      0      0      0  \n",
              "2      0      0      0      0      0      0      0  \n",
              "3      0      0      0      0      0      0      0  \n",
              "4      0      0      0      0      0      0      0  \n",
              "\n",
              "[5 rows x 1449 columns]"
            ],
            "text/html": [
              "\n",
              "  <div id=\"df-282850c3-0000-4369-9a60-940ed1383086\">\n",
              "    <div class=\"colab-df-container\">\n",
              "      <div>\n",
              "<style scoped>\n",
              "    .dataframe tbody tr th:only-of-type {\n",
              "        vertical-align: middle;\n",
              "    }\n",
              "\n",
              "    .dataframe tbody tr th {\n",
              "        vertical-align: top;\n",
              "    }\n",
              "\n",
              "    .dataframe thead th {\n",
              "        text-align: right;\n",
              "    }\n",
              "</style>\n",
              "<table border=\"1\" class=\"dataframe\">\n",
              "  <thead>\n",
              "    <tr style=\"text-align: right;\">\n",
              "      <th></th>\n",
              "      <th>visit_month</th>\n",
              "      <th>updrs_1</th>\n",
              "      <th>updrs_2</th>\n",
              "      <th>updrs_3</th>\n",
              "      <th>updrs_4</th>\n",
              "      <th>On</th>\n",
              "      <th>AADDTWEPFASGK</th>\n",
              "      <th>AAFGQGSGPIMLDEVQC(UniMod_4)TGTEASLADC(UniMod_4)K</th>\n",
              "      <th>AAFTEC(UniMod_4)C(UniMod_4)QAADK</th>\n",
              "      <th>AANEVSSADVK</th>\n",
              "      <th>...</th>\n",
              "      <th>62329</th>\n",
              "      <th>62437</th>\n",
              "      <th>62723</th>\n",
              "      <th>62732</th>\n",
              "      <th>62792</th>\n",
              "      <th>63875</th>\n",
              "      <th>63889</th>\n",
              "      <th>64669</th>\n",
              "      <th>64674</th>\n",
              "      <th>65043</th>\n",
              "    </tr>\n",
              "  </thead>\n",
              "  <tbody>\n",
              "    <tr>\n",
              "      <th>0</th>\n",
              "      <td>0</td>\n",
              "      <td>10.0</td>\n",
              "      <td>6.0</td>\n",
              "      <td>15.0</td>\n",
              "      <td>0.0</td>\n",
              "      <td>0</td>\n",
              "      <td>8984260.0</td>\n",
              "      <td>53855.6</td>\n",
              "      <td>8579740.0</td>\n",
              "      <td>0.0</td>\n",
              "      <td>...</td>\n",
              "      <td>0</td>\n",
              "      <td>0</td>\n",
              "      <td>0</td>\n",
              "      <td>0</td>\n",
              "      <td>0</td>\n",
              "      <td>0</td>\n",
              "      <td>0</td>\n",
              "      <td>0</td>\n",
              "      <td>0</td>\n",
              "      <td>0</td>\n",
              "    </tr>\n",
              "    <tr>\n",
              "      <th>1</th>\n",
              "      <td>6</td>\n",
              "      <td>8.0</td>\n",
              "      <td>10.0</td>\n",
              "      <td>34.0</td>\n",
              "      <td>0.0</td>\n",
              "      <td>0</td>\n",
              "      <td>8279770.0</td>\n",
              "      <td>45251.9</td>\n",
              "      <td>8655890.0</td>\n",
              "      <td>49927.5</td>\n",
              "      <td>...</td>\n",
              "      <td>0</td>\n",
              "      <td>0</td>\n",
              "      <td>0</td>\n",
              "      <td>0</td>\n",
              "      <td>0</td>\n",
              "      <td>0</td>\n",
              "      <td>0</td>\n",
              "      <td>0</td>\n",
              "      <td>0</td>\n",
              "      <td>0</td>\n",
              "    </tr>\n",
              "    <tr>\n",
              "      <th>2</th>\n",
              "      <td>12</td>\n",
              "      <td>10.0</td>\n",
              "      <td>10.0</td>\n",
              "      <td>41.0</td>\n",
              "      <td>0.0</td>\n",
              "      <td>1</td>\n",
              "      <td>8382390.0</td>\n",
              "      <td>53000.9</td>\n",
              "      <td>8995640.0</td>\n",
              "      <td>45519.2</td>\n",
              "      <td>...</td>\n",
              "      <td>0</td>\n",
              "      <td>0</td>\n",
              "      <td>0</td>\n",
              "      <td>0</td>\n",
              "      <td>0</td>\n",
              "      <td>0</td>\n",
              "      <td>0</td>\n",
              "      <td>0</td>\n",
              "      <td>0</td>\n",
              "      <td>0</td>\n",
              "    </tr>\n",
              "    <tr>\n",
              "      <th>3</th>\n",
              "      <td>36</td>\n",
              "      <td>17.0</td>\n",
              "      <td>18.0</td>\n",
              "      <td>51.0</td>\n",
              "      <td>0.0</td>\n",
              "      <td>1</td>\n",
              "      <td>10671500.0</td>\n",
              "      <td>58108.4</td>\n",
              "      <td>9985420.0</td>\n",
              "      <td>52374.0</td>\n",
              "      <td>...</td>\n",
              "      <td>0</td>\n",
              "      <td>0</td>\n",
              "      <td>0</td>\n",
              "      <td>0</td>\n",
              "      <td>0</td>\n",
              "      <td>0</td>\n",
              "      <td>0</td>\n",
              "      <td>0</td>\n",
              "      <td>0</td>\n",
              "      <td>0</td>\n",
              "    </tr>\n",
              "    <tr>\n",
              "      <th>4</th>\n",
              "      <td>6</td>\n",
              "      <td>8.0</td>\n",
              "      <td>2.0</td>\n",
              "      <td>21.0</td>\n",
              "      <td>0.0</td>\n",
              "      <td>0</td>\n",
              "      <td>6177730.0</td>\n",
              "      <td>42682.6</td>\n",
              "      <td>3596660.0</td>\n",
              "      <td>25698.8</td>\n",
              "      <td>...</td>\n",
              "      <td>0</td>\n",
              "      <td>0</td>\n",
              "      <td>0</td>\n",
              "      <td>0</td>\n",
              "      <td>0</td>\n",
              "      <td>0</td>\n",
              "      <td>0</td>\n",
              "      <td>0</td>\n",
              "      <td>0</td>\n",
              "      <td>0</td>\n",
              "    </tr>\n",
              "  </tbody>\n",
              "</table>\n",
              "<p>5 rows × 1449 columns</p>\n",
              "</div>\n",
              "      <button class=\"colab-df-convert\" onclick=\"convertToInteractive('df-282850c3-0000-4369-9a60-940ed1383086')\"\n",
              "              title=\"Convert this dataframe to an interactive table.\"\n",
              "              style=\"display:none;\">\n",
              "        \n",
              "  <svg xmlns=\"http://www.w3.org/2000/svg\" height=\"24px\"viewBox=\"0 0 24 24\"\n",
              "       width=\"24px\">\n",
              "    <path d=\"M0 0h24v24H0V0z\" fill=\"none\"/>\n",
              "    <path d=\"M18.56 5.44l.94 2.06.94-2.06 2.06-.94-2.06-.94-.94-2.06-.94 2.06-2.06.94zm-11 1L8.5 8.5l.94-2.06 2.06-.94-2.06-.94L8.5 2.5l-.94 2.06-2.06.94zm10 10l.94 2.06.94-2.06 2.06-.94-2.06-.94-.94-2.06-.94 2.06-2.06.94z\"/><path d=\"M17.41 7.96l-1.37-1.37c-.4-.4-.92-.59-1.43-.59-.52 0-1.04.2-1.43.59L10.3 9.45l-7.72 7.72c-.78.78-.78 2.05 0 2.83L4 21.41c.39.39.9.59 1.41.59.51 0 1.02-.2 1.41-.59l7.78-7.78 2.81-2.81c.8-.78.8-2.07 0-2.86zM5.41 20L4 18.59l7.72-7.72 1.47 1.35L5.41 20z\"/>\n",
              "  </svg>\n",
              "      </button>\n",
              "      \n",
              "  <style>\n",
              "    .colab-df-container {\n",
              "      display:flex;\n",
              "      flex-wrap:wrap;\n",
              "      gap: 12px;\n",
              "    }\n",
              "\n",
              "    .colab-df-convert {\n",
              "      background-color: #E8F0FE;\n",
              "      border: none;\n",
              "      border-radius: 50%;\n",
              "      cursor: pointer;\n",
              "      display: none;\n",
              "      fill: #1967D2;\n",
              "      height: 32px;\n",
              "      padding: 0 0 0 0;\n",
              "      width: 32px;\n",
              "    }\n",
              "\n",
              "    .colab-df-convert:hover {\n",
              "      background-color: #E2EBFA;\n",
              "      box-shadow: 0px 1px 2px rgba(60, 64, 67, 0.3), 0px 1px 3px 1px rgba(60, 64, 67, 0.15);\n",
              "      fill: #174EA6;\n",
              "    }\n",
              "\n",
              "    [theme=dark] .colab-df-convert {\n",
              "      background-color: #3B4455;\n",
              "      fill: #D2E3FC;\n",
              "    }\n",
              "\n",
              "    [theme=dark] .colab-df-convert:hover {\n",
              "      background-color: #434B5C;\n",
              "      box-shadow: 0px 1px 3px 1px rgba(0, 0, 0, 0.15);\n",
              "      filter: drop-shadow(0px 1px 2px rgba(0, 0, 0, 0.3));\n",
              "      fill: #FFFFFF;\n",
              "    }\n",
              "  </style>\n",
              "\n",
              "      <script>\n",
              "        const buttonEl =\n",
              "          document.querySelector('#df-282850c3-0000-4369-9a60-940ed1383086 button.colab-df-convert');\n",
              "        buttonEl.style.display =\n",
              "          google.colab.kernel.accessAllowed ? 'block' : 'none';\n",
              "\n",
              "        async function convertToInteractive(key) {\n",
              "          const element = document.querySelector('#df-282850c3-0000-4369-9a60-940ed1383086');\n",
              "          const dataTable =\n",
              "            await google.colab.kernel.invokeFunction('convertToInteractive',\n",
              "                                                     [key], {});\n",
              "          if (!dataTable) return;\n",
              "\n",
              "          const docLinkHtml = 'Like what you see? Visit the ' +\n",
              "            '<a target=\"_blank\" href=https://colab.research.google.com/notebooks/data_table.ipynb>data table notebook</a>'\n",
              "            + ' to learn more about interactive tables.';\n",
              "          element.innerHTML = '';\n",
              "          dataTable['output_type'] = 'display_data';\n",
              "          await google.colab.output.renderOutput(dataTable, element);\n",
              "          const docLink = document.createElement('div');\n",
              "          docLink.innerHTML = docLinkHtml;\n",
              "          element.appendChild(docLink);\n",
              "        }\n",
              "      </script>\n",
              "    </div>\n",
              "  </div>\n",
              "  "
            ]
          },
          "metadata": {},
          "execution_count": 3
        }
      ],
      "source": [
        "df.head()"
      ]
    },
    {
      "cell_type": "code",
      "execution_count": 4,
      "id": "28c841f2",
      "metadata": {
        "id": "28c841f2"
      },
      "outputs": [],
      "source": [
        "### Split & Train\n",
        "\n",
        "# Getting X, Y columns \n",
        "y_col = ['updrs_1', 'updrs_2', 'updrs_3', 'updrs_4']\n",
        "x_col = [x for x in df.columns if x not in y_col]\n",
        "\n",
        "# Splitting into X and Y \n",
        "\n",
        "X = df[x_col]\n",
        "Y = df[y_col]\n",
        "\n",
        "# Split the preprocessed data into a training and testing dataset\n",
        "X_train, X_test, y_train, y_test = train_test_split(X, Y, test_size = 0.2, random_state = 1)\n",
        "\n",
        "### Scaling Data \n",
        "\n",
        "# Create a StandardScaler instances\n",
        "scaler = StandardScaler()\n",
        "\n",
        "# Fit the StandardScaler\n",
        "X_scaler = scaler.fit(X_train)\n",
        "\n",
        "# Scale the data\n",
        "X_train_scaled = X_scaler.transform(X_train)\n",
        "X_test_scaled = X_scaler.transform(X_test)\n",
        "\n",
        "# Conversion to dataframe\n",
        "scaled_test_df = pd.DataFrame(X_test_scaled, columns = X_test.columns)\n",
        "scaled_train_df = pd.DataFrame(X_train_scaled, columns = X_train.columns)"
      ]
    },
    {
      "cell_type": "markdown",
      "id": "4ddaaf6d",
      "metadata": {
        "id": "4ddaaf6d"
      },
      "source": [
        "### Loading Features "
      ]
    },
    {
      "cell_type": "code",
      "execution_count": 5,
      "id": "4c9714ae",
      "metadata": {
        "id": "4c9714ae"
      },
      "outputs": [],
      "source": [
        "import ast"
      ]
    },
    {
      "cell_type": "code",
      "execution_count": 6,
      "id": "ac76c2ed",
      "metadata": {
        "id": "ac76c2ed"
      },
      "outputs": [],
      "source": [
        "df_col = pd.read_csv('/content/features.csv')"
      ]
    },
    {
      "cell_type": "code",
      "execution_count": 7,
      "id": "6b672788",
      "metadata": {
        "colab": {
          "base_uri": "https://localhost:8080/",
          "height": 206
        },
        "id": "6b672788",
        "outputId": "b8f8fc6b-f784-46a9-cdff-de6c22e27efb"
      },
      "outputs": [
        {
          "output_type": "execute_result",
          "data": {
            "text/plain": [
              "                                            features\n",
              "0  ['On', 'FIYGGC(UniMod_4)GGNR', 'P43121', 'TLKI...\n",
              "1  ['HLSLLTTLSNR', 'VRGGEGTGYFVDFSVR', 'Q14515', ...\n",
              "2  ['On', 'FIYGGC(UniMod_4)GGNR', 'P43121', 'TLKI...\n",
              "3  ['HLSLLTTLSNR', 'VKDLATVYVDVLK', 'VRGGEGTGYFVD...\n",
              "4  ['On', 'FIYGGC(UniMod_4)GGNR', 'P43121', 'TLKI..."
            ],
            "text/html": [
              "\n",
              "  <div id=\"df-eec3c7b4-009e-4dc6-95c1-f6b416835cfb\">\n",
              "    <div class=\"colab-df-container\">\n",
              "      <div>\n",
              "<style scoped>\n",
              "    .dataframe tbody tr th:only-of-type {\n",
              "        vertical-align: middle;\n",
              "    }\n",
              "\n",
              "    .dataframe tbody tr th {\n",
              "        vertical-align: top;\n",
              "    }\n",
              "\n",
              "    .dataframe thead th {\n",
              "        text-align: right;\n",
              "    }\n",
              "</style>\n",
              "<table border=\"1\" class=\"dataframe\">\n",
              "  <thead>\n",
              "    <tr style=\"text-align: right;\">\n",
              "      <th></th>\n",
              "      <th>features</th>\n",
              "    </tr>\n",
              "  </thead>\n",
              "  <tbody>\n",
              "    <tr>\n",
              "      <th>0</th>\n",
              "      <td>['On', 'FIYGGC(UniMod_4)GGNR', 'P43121', 'TLKI...</td>\n",
              "    </tr>\n",
              "    <tr>\n",
              "      <th>1</th>\n",
              "      <td>['HLSLLTTLSNR', 'VRGGEGTGYFVDFSVR', 'Q14515', ...</td>\n",
              "    </tr>\n",
              "    <tr>\n",
              "      <th>2</th>\n",
              "      <td>['On', 'FIYGGC(UniMod_4)GGNR', 'P43121', 'TLKI...</td>\n",
              "    </tr>\n",
              "    <tr>\n",
              "      <th>3</th>\n",
              "      <td>['HLSLLTTLSNR', 'VKDLATVYVDVLK', 'VRGGEGTGYFVD...</td>\n",
              "    </tr>\n",
              "    <tr>\n",
              "      <th>4</th>\n",
              "      <td>['On', 'FIYGGC(UniMod_4)GGNR', 'P43121', 'TLKI...</td>\n",
              "    </tr>\n",
              "  </tbody>\n",
              "</table>\n",
              "</div>\n",
              "      <button class=\"colab-df-convert\" onclick=\"convertToInteractive('df-eec3c7b4-009e-4dc6-95c1-f6b416835cfb')\"\n",
              "              title=\"Convert this dataframe to an interactive table.\"\n",
              "              style=\"display:none;\">\n",
              "        \n",
              "  <svg xmlns=\"http://www.w3.org/2000/svg\" height=\"24px\"viewBox=\"0 0 24 24\"\n",
              "       width=\"24px\">\n",
              "    <path d=\"M0 0h24v24H0V0z\" fill=\"none\"/>\n",
              "    <path d=\"M18.56 5.44l.94 2.06.94-2.06 2.06-.94-2.06-.94-.94-2.06-.94 2.06-2.06.94zm-11 1L8.5 8.5l.94-2.06 2.06-.94-2.06-.94L8.5 2.5l-.94 2.06-2.06.94zm10 10l.94 2.06.94-2.06 2.06-.94-2.06-.94-.94-2.06-.94 2.06-2.06.94z\"/><path d=\"M17.41 7.96l-1.37-1.37c-.4-.4-.92-.59-1.43-.59-.52 0-1.04.2-1.43.59L10.3 9.45l-7.72 7.72c-.78.78-.78 2.05 0 2.83L4 21.41c.39.39.9.59 1.41.59.51 0 1.02-.2 1.41-.59l7.78-7.78 2.81-2.81c.8-.78.8-2.07 0-2.86zM5.41 20L4 18.59l7.72-7.72 1.47 1.35L5.41 20z\"/>\n",
              "  </svg>\n",
              "      </button>\n",
              "      \n",
              "  <style>\n",
              "    .colab-df-container {\n",
              "      display:flex;\n",
              "      flex-wrap:wrap;\n",
              "      gap: 12px;\n",
              "    }\n",
              "\n",
              "    .colab-df-convert {\n",
              "      background-color: #E8F0FE;\n",
              "      border: none;\n",
              "      border-radius: 50%;\n",
              "      cursor: pointer;\n",
              "      display: none;\n",
              "      fill: #1967D2;\n",
              "      height: 32px;\n",
              "      padding: 0 0 0 0;\n",
              "      width: 32px;\n",
              "    }\n",
              "\n",
              "    .colab-df-convert:hover {\n",
              "      background-color: #E2EBFA;\n",
              "      box-shadow: 0px 1px 2px rgba(60, 64, 67, 0.3), 0px 1px 3px 1px rgba(60, 64, 67, 0.15);\n",
              "      fill: #174EA6;\n",
              "    }\n",
              "\n",
              "    [theme=dark] .colab-df-convert {\n",
              "      background-color: #3B4455;\n",
              "      fill: #D2E3FC;\n",
              "    }\n",
              "\n",
              "    [theme=dark] .colab-df-convert:hover {\n",
              "      background-color: #434B5C;\n",
              "      box-shadow: 0px 1px 3px 1px rgba(0, 0, 0, 0.15);\n",
              "      filter: drop-shadow(0px 1px 2px rgba(0, 0, 0, 0.3));\n",
              "      fill: #FFFFFF;\n",
              "    }\n",
              "  </style>\n",
              "\n",
              "      <script>\n",
              "        const buttonEl =\n",
              "          document.querySelector('#df-eec3c7b4-009e-4dc6-95c1-f6b416835cfb button.colab-df-convert');\n",
              "        buttonEl.style.display =\n",
              "          google.colab.kernel.accessAllowed ? 'block' : 'none';\n",
              "\n",
              "        async function convertToInteractive(key) {\n",
              "          const element = document.querySelector('#df-eec3c7b4-009e-4dc6-95c1-f6b416835cfb');\n",
              "          const dataTable =\n",
              "            await google.colab.kernel.invokeFunction('convertToInteractive',\n",
              "                                                     [key], {});\n",
              "          if (!dataTable) return;\n",
              "\n",
              "          const docLinkHtml = 'Like what you see? Visit the ' +\n",
              "            '<a target=\"_blank\" href=https://colab.research.google.com/notebooks/data_table.ipynb>data table notebook</a>'\n",
              "            + ' to learn more about interactive tables.';\n",
              "          element.innerHTML = '';\n",
              "          dataTable['output_type'] = 'display_data';\n",
              "          await google.colab.output.renderOutput(dataTable, element);\n",
              "          const docLink = document.createElement('div');\n",
              "          docLink.innerHTML = docLinkHtml;\n",
              "          element.appendChild(docLink);\n",
              "        }\n",
              "      </script>\n",
              "    </div>\n",
              "  </div>\n",
              "  "
            ]
          },
          "metadata": {},
          "execution_count": 7
        }
      ],
      "source": [
        "df_col.head()"
      ]
    },
    {
      "cell_type": "code",
      "execution_count": 8,
      "id": "04322372",
      "metadata": {
        "id": "04322372"
      },
      "outputs": [],
      "source": [
        "df_col['features'] = df_col['features'].apply(ast.literal_eval)"
      ]
    },
    {
      "cell_type": "code",
      "execution_count": 9,
      "id": "cb4a6bf9",
      "metadata": {
        "colab": {
          "base_uri": "https://localhost:8080/"
        },
        "id": "cb4a6bf9",
        "outputId": "36e60bd8-03f5-4684-8ba2-a4030f2203cb"
      },
      "outputs": [
        {
          "output_type": "execute_result",
          "data": {
            "text/plain": [
              "['On',\n",
              " 'FIYGGC(UniMod_4)GGNR',\n",
              " 'P43121',\n",
              " 'TLKIENVSYQDKGNYR',\n",
              " 'P17174',\n",
              " 'Q06481',\n",
              " 'O15240',\n",
              " 'QQETAAAETETR',\n",
              " 'P05060',\n",
              " '40650',\n",
              " 'P13521',\n",
              " 'ALEYIENLR',\n",
              " 'AYQGVAAPFPK',\n",
              " 'P40925',\n",
              " 'FVEGLPINDFSR',\n",
              " 'O00533',\n",
              " 'VNGSPVDNHPFAGDVVFPR',\n",
              " 'EAEEETTNDNGVLVLEPARK',\n",
              " 'VRQGQGQSEPGEYEQR',\n",
              " 'IGADFLAR',\n",
              " 'LVFFAEDVGSNK',\n",
              " 'Q9BY67',\n",
              " 'VHKEDDGVPVIC(UniMod_4)QVEHPAVTGNLQTQR',\n",
              " 'FFLC(UniMod_4)QVAGDAK',\n",
              " 'GEAGAPGEEDIQGPTK',\n",
              " 'KPQSAVYSTGSNGILLC(UniMod_4)EAEGEPQPTIK',\n",
              " 'VFNTPEGVPSAPSSLK',\n",
              " 'RLEGQEEEEDNRDSSMK',\n",
              " 'Q6UXD5',\n",
              " 'EGDMLTLFDGDGPSAR',\n",
              " 'GATLALTQVTPQDER',\n",
              " 'QHVVYGPWNLPQSSYSHLTR',\n",
              " 'LQAEAFQAR',\n",
              " 'LEEQAQQIR',\n",
              " 'THLGEALAPLSK',\n",
              " 'LDEVKEQVAEVR',\n",
              " 'KLSENTDFLAPGVSSFTDSNQQESITK',\n",
              " 'P04180',\n",
              " 'IEIPSSVQQVPTIIK',\n",
              " '13618',\n",
              " 'P10645',\n",
              " 'P02787',\n",
              " 'P14618',\n",
              " 'IKPVFIEDANFGR',\n",
              " 'SEALAVDGAGKPGAEEAQDPEGK',\n",
              " 'Q8NBJ4',\n",
              " 'DTINLLDQR',\n",
              " 'LIADLGSTSITNLGFR',\n",
              " 'ISYGNDALMPSLTETK',\n",
              " 'VGGVQSLGGTGALR',\n",
              " 'C(UniMod_4)APFFYGGC(UniMod_4)GGNR',\n",
              " 'P05067',\n",
              " 'LLRDPADASEAHESSSR',\n",
              " 'LDIDSPPITAR',\n",
              " 'STNLHDYGMLLPC(UniMod_4)GIDK',\n",
              " 'Q99829',\n",
              " 'QALPQVR',\n",
              " 'GNPEPTFSWTK',\n",
              " 'P61278',\n",
              " 'SLAAAAGKQELAK',\n",
              " 'DRLDEVKEQVAEVR',\n",
              " 'VIAVNEVGR',\n",
              " 'AKLEEQAQQIR',\n",
              " 'Q92823',\n",
              " 'P13591',\n",
              " 'P02649',\n",
              " 'Q92520',\n",
              " 'LNMHMNVQNGKWDSDPSGTK',\n",
              " 'DGGFC(UniMod_4)EVC(UniMod_4)KK',\n",
              " 'LSKELQAAQAR',\n",
              " 'SGELEQEEER',\n",
              " 'P55290',\n",
              " 'Q9NQ79',\n",
              " 'SIVVSPILIPENQR',\n",
              " 'YPGPQAEGDSEGLSQGLVDREK',\n",
              " 'VVVNFAPTIQEIK',\n",
              " 'Q7Z3B1',\n",
              " 'GSGGLNLGNFFASR',\n",
              " 'P19021',\n",
              " 'VAHQLQALR',\n",
              " 'SSQGGSLPSEEK',\n",
              " 'SETKDLLFRDDTVC(UniMod_4)LAK',\n",
              " 'Q99435',\n",
              " 'HNC(UniMod_4)MENSIC(UniMod_4)R',\n",
              " 'Q13332',\n",
              " 'SPQGLGAFTPVVR',\n",
              " 'LEPGQQEEYYR',\n",
              " 'GEVQAMLGQSTEELRVR',\n",
              " 'SLPSEASEQYLTK',\n",
              " 'GLSAEPGWQAK',\n",
              " 'THPHFVIPYR',\n",
              " 'Q16610',\n",
              " 'EDSLEAGLPLQVR',\n",
              " 'P05408',\n",
              " 'VSEADIQR',\n",
              " 'SEGLLAC(UniMod_4)GTNAR',\n",
              " 'O75326',\n",
              " 'SVIPSDGPSVAC(UniMod_4)VKK',\n",
              " 'ITTTSPWMFPSR',\n",
              " 'Q14508',\n",
              " 'DQC(UniMod_4)QVDSQC(UniMod_4)PGQMK',\n",
              " 'VMTPAVYAPYDVK',\n",
              " 'LGPLVEQGR',\n",
              " 'NTGIIC(UniMod_4)TIGPASR',\n",
              " 'VVEQMC(UniMod_4)ITQYER',\n",
              " 'P04156',\n",
              " 'GVALADFNR',\n",
              " 'SGEATDGARPQALPEPMQESK',\n",
              " 'WELALGR',\n",
              " 'NLQPASEYTVSLVAIKGNQESPK',\n",
              " 'ASYLDC(UniMod_4)IR',\n",
              " 'DGAGDVAFVK',\n",
              " 'GYPGVQAPEDLEWER',\n",
              " '36797',\n",
              " 'SSGLVSNAPGVQIR',\n",
              " 'AVC(UniMod_4)SQEAMTGPC(UniMod_4)R',\n",
              " 'LEGQEEEEDNRDSSMK',\n",
              " 'GEVQAMLGQSTEELR',\n",
              " 'LIVHNGYC(UniMod_4)DGR',\n",
              " 'IEEELGDEAR',\n",
              " 'P09104',\n",
              " 'GVASLFAGR',\n",
              " 'KPVDEYKDC(UniMod_4)HLAQVPSHTVVAR',\n",
              " 'KC(UniMod_4)STSSLLEAC(UniMod_4)TFR',\n",
              " 'VQAAVGTSAAPVPSDNH',\n",
              " 'AYKSELEEQLTPVAEETR',\n",
              " 'ALANSLAC(UniMod_4)QGK',\n",
              " 'Q14118',\n",
              " 'P02753',\n",
              " 'MASGAANVVGPK',\n",
              " 'LKC(UniMod_4)DEWSVNSVGK',\n",
              " 'KVEQAVETEPEPELR',\n",
              " 'MDASLGNLFAR',\n",
              " 'O00391',\n",
              " 'NEQEQPLGQWHLS',\n",
              " 'IC(UniMod_4)LEDNVLMSGVK',\n",
              " 'QWAGLVEK',\n",
              " 'YPSLSIHGIEGAFDEPGTK',\n",
              " 'ASGSPEPAISWFR',\n",
              " 'GEAAGAVQELAR',\n",
              " 'Q9UHG2',\n",
              " 'EWVAIESDSVQPVPR',\n",
              " 'SWFEPLVEDM(UniMod_35)QR',\n",
              " 'WYFDVTEGK',\n",
              " 'O15394',\n",
              " 'SMEQNGPGLEYR',\n",
              " 'P04075',\n",
              " 'P07195',\n",
              " 'LKDDEVAQLKK',\n",
              " 'SPFEQHIK',\n",
              " 'LVGGPMDASVEEEGVR',\n",
              " 'GINVALANGK',\n",
              " 'Q96KN2',\n",
              " 'NLNEKDYELLC(UniMod_4)LDGTR',\n",
              " 'ILAGSADSEGVAAPR',\n",
              " 'AATVGSLAGQPLQER',\n",
              " '7265',\n",
              " 'EFQLFSSPHGK',\n",
              " 'FEHC(UniMod_4)NFNDVTTR',\n",
              " 'LQDLYSIVR',\n",
              " 'DSGFQMNQLR',\n",
              " 'GLGEISAASEFK',\n",
              " 'YLGEEYVK',\n",
              " 'ADRDQYELLC(UniMod_4)LDNTR',\n",
              " 'C(UniMod_4)LVEKGDVAFVK',\n",
              " 'Q12907',\n",
              " 'NLHGDGIALWYTR',\n",
              " 'IMNGEADAMSLDGGFVYIAGK',\n",
              " 'ALEQDLPVNIK',\n",
              " 'P07602',\n",
              " 'P54289',\n",
              " 'Q14515',\n",
              " 'DGGFC(UniMod_4)EVC(UniMod_4)K',\n",
              " 'FDEFFSEGC(UniMod_4)APGSKK',\n",
              " 'Q8NE71',\n",
              " 'FAALDNEEEDK',\n",
              " 'DLLFKDSAHGFLK',\n",
              " 'HVLFGTVGVPEHTYR',\n",
              " 'P04216',\n",
              " 'DC(UniMod_4)HLAQVPSHTVVAR',\n",
              " 'LGC(UniMod_4)SLNQNSVPDIHGVEAPAR',\n",
              " 'SVIPSDGPSVAC(UniMod_4)VK',\n",
              " 'C(UniMod_4)LVEKGDVAFVKHQTVPQNTGGK',\n",
              " 'FDEFFSEGC(UniMod_4)APGSK',\n",
              " 'Q9Y646',\n",
              " 'LALLVDTVGPR',\n",
              " 'P09486',\n",
              " 'TQSSLVPALTDFVR',\n",
              " 'O60888',\n",
              " 'APLIPMEHC(UniMod_4)TTR',\n",
              " 'VTIPTDLIASSGDIIK',\n",
              " 'HQPQEFPTYVEPTNDEIC(UniMod_4)EAFRK',\n",
              " 'P39060',\n",
              " 'NSLESYAFNMK',\n",
              " 'P11142',\n",
              " 'IC(UniMod_4)LEDNVLM(UniMod_35)SGVK',\n",
              " 'NLREGTC(UniMod_4)PEAPTDEC(UniMod_4)KPVK',\n",
              " 'INENTGSVSVTR',\n",
              " 'WC(UniMod_4)AVSEHEATK',\n",
              " 'TPC(UniMod_4)TVSC(UniMod_4)NIPVVSGKEC(UniMod_4)EEIIR',\n",
              " 'LVGYLDR',\n",
              " 'M(UniMod_35)ASGAANVVGPK',\n",
              " 'P01861',\n",
              " 'TTPPVLDSDGSFFLYSR',\n",
              " 'SELEEQLTPVAEETR',\n",
              " 'LAVYQAGAR',\n",
              " 'P05452',\n",
              " 'P13987',\n",
              " 'SSNTYTLTDVRR',\n",
              " 'QVVAGLNFR',\n",
              " 'DNWVFC(UniMod_4)GGK',\n",
              " 'VEHSDLSFSK',\n",
              " '24820',\n",
              " 'LYEQLSGK',\n",
              " 'P02751',\n",
              " 'IASFSQNC(UniMod_4)DIYPGKDFVQPPTK',\n",
              " 'SASDLTWDNLK',\n",
              " 'TALASGGVLDASGDYR',\n",
              " 'O43505',\n",
              " 'ALDFAVGEYNK',\n",
              " 'EGTC(UniMod_4)PEAPTDEC(UniMod_4)KPVK',\n",
              " 'C(UniMod_4)RDQLPYIC(UniMod_4)QFGIV',\n",
              " 'C(UniMod_4)IIEVLSNALSK',\n",
              " 'MVQEQC(UniMod_4)C(UniMod_4)HSQLEELHC(UniMod_4)ATGISLANEQDR',\n",
              " 'QRQEELC(UniMod_4)LAR',\n",
              " 'GC(UniMod_4)SFLPDPYQK',\n",
              " 'TSTDLQVLAAR',\n",
              " 'Q96BZ4',\n",
              " 'LRENELTYYC(UniMod_4)C(UniMod_4)KK',\n",
              " 'QQTHMLDVMQDHFSR',\n",
              " 'LQSIGTENTEENRR',\n",
              " 'MC(UniMod_4)VDVNEC(UniMod_4)QR',\n",
              " 'KASYLDC(UniMod_4)IR',\n",
              " 'DSGFQM(UniMod_35)NQLR',\n",
              " 'TEIDKPSQMQVTDVQDNSISVK',\n",
              " 'SSPVVIDASTAIDAPSNLR',\n",
              " 'EGYYGYTGAFR',\n",
              " 'GALQNIIPASTGAAK',\n",
              " 'P04406',\n",
              " 'P23142',\n",
              " 'DC(UniMod_4)GSVDGVIKEVNVSPC(UniMod_4)PTQPC(UniMod_4)QLSK',\n",
              " 'LVWEEAMSR',\n",
              " 'FSGTWYAMAK',\n",
              " 'LGPLVEQGRVR',\n",
              " 'YWGVASFLQK',\n",
              " 'MYLGYEYVTAIR',\n",
              " 'P01042',\n",
              " 'DTVIKPLLVEPEGLEK',\n",
              " 'SGINC(UniMod_4)PIQK',\n",
              " 'P14314',\n",
              " '37220',\n",
              " 'GYQLSDVDGVTC(UniMod_4)EDIDEC(UniMod_4)ALPTGGHIC(UniMod_4)SYR',\n",
              " 'P08253',\n",
              " 'IIGYTPDLDPETVDDAFAR',\n",
              " 'DQGNQEQDPNISNGEEEEEKEPGEVGTHNDNQER',\n",
              " 'P01034',\n",
              " 'Q08380',\n",
              " 'LC(UniMod_4)MGSGLNLC(UniMod_4)EPNNK',\n",
              " 'EAEEHQETQC(UniMod_4)LR',\n",
              " 'Q99969',\n",
              " 'visit_month',\n",
              " 'P61916',\n",
              " 'KLVGYLDR',\n",
              " 'TFHEASEDC(UniMod_4)ISR',\n",
              " 'EFTRPEEIIFLR',\n",
              " 'STGGISVPGPMGPSGPR',\n",
              " 'Q99674',\n",
              " 'HVEPGEPLAPSPQEPQAVGR',\n",
              " 'P08571',\n",
              " 'KSASDLTWDNLK',\n",
              " 'NTFAEVTGLSPGVTYYFK',\n",
              " 'M(UniMod_35)VQEQC(UniMod_4)C(UniMod_4)HSQLEELHC(UniMod_4)ATGISLANEQDR',\n",
              " 'ISC(UniMod_4)TIANR',\n",
              " 'SNVSDAVAQSTR',\n",
              " 'P60174',\n",
              " 'ALSSEWKPEIR',\n",
              " 'LC(UniMod_4)MGSGLNLC(UniMod_4)EPNNKEGYYGYTGAFR',\n",
              " 'LLPAQLPAEKEVGPPLPQEAVPLQK',\n",
              " 'HTSVQTTSSGSGPFTDVR',\n",
              " 'IEC(UniMod_4)VSAETTEDC(UniMod_4)IAK',\n",
              " 'EDC(UniMod_4)NELPPRR',\n",
              " 'FTFEYSR',\n",
              " 'INHC(UniMod_4)RFDEFFSEGC(UniMod_4)APGSKK',\n",
              " 'LHDRNTYEKYLGEEYVK',\n",
              " 'LKC(UniMod_4)DEWSVNSVGKIEC(UniMod_4)VSAETTEDC(UniMod_4)IAK',\n",
              " 'HSTIFENLANK',\n",
              " 'QQTEWQSGQR',\n",
              " 'ASEGGFTATGQR',\n",
              " 'YVNKEIQNAVNGVK',\n",
              " 'SKEFQLFSSPHGK',\n",
              " 'TYLGNALVC(UniMod_4)TC(UniMod_4)YGGSR',\n",
              " 'AGLQVYNK',\n",
              " 'MMAVAADTLQR',\n",
              " 'P61769',\n",
              " 'TVFGTEPDMIR',\n",
              " 'NRDHDTFLAVR',\n",
              " 'LEAGDHPVELLAR',\n",
              " 'YPNC(UniMod_4)AYR',\n",
              " 'P43652',\n",
              " 'GQEDASPDRFSNTDYAVGYMLR',\n",
              " 'IYLYTLNDNAR',\n",
              " 'ASLVPMEHC(UniMod_4)ITR',\n",
              " 'VTTVASHTSDSDVPSGVTEVVVK',\n",
              " 'Q9NYU2',\n",
              " 'FTILDSQGK',\n",
              " 'P41222',\n",
              " 'Q13740',\n",
              " 'LHLDYIGPC(UniMod_4)K',\n",
              " 'QQLVETHMAR',\n",
              " 'YFIDFVAR',\n",
              " 'MKYWGVASFLQK',\n",
              " 'LVGGPMDASVEEEGVRR',\n",
              " 'YANC(UniMod_4)HLAR',\n",
              " 'P09871',\n",
              " 'P30086',\n",
              " 'DALSSVQESQVAQQAR',\n",
              " '59550',\n",
              " 'DC(UniMod_4)SLPYATESK',\n",
              " 'KDSGFQM(UniMod_35)NQLR',\n",
              " 'VLSIAQAHSPAFSC(UniMod_4)EQVR',\n",
              " 'P16870',\n",
              " 'TGAQELLR',\n",
              " 'P49908',\n",
              " 'DMPASEDLQDLQK',\n",
              " 'KLGQSLDC(UniMod_4)NAEVYVVPWEK',\n",
              " 'TNTNVNC(UniMod_4)PIEC(UniMod_4)FMPLDVQADREDSRE',\n",
              " '5645',\n",
              " 'FVVTDGGITR',\n",
              " 'LFDSDPITVTVPVEVSR',\n",
              " 'LLAGDHPIDLLLR',\n",
              " 'Q12841',\n",
              " 'P10909',\n",
              " 'LVDGKGVPIPNKVIFIR',\n",
              " 'ADQVC(UniMod_4)INLR',\n",
              " 'EPTMYGEILSPNYPQAYPSEVEK',\n",
              " 'Q6UXB8',\n",
              " 'GKRPYQEGTPC(UniMod_4)SQC(UniMod_4)PSGYHC(UniMod_4)K',\n",
              " '17154',\n",
              " 'VTIKPAPETEKRPQDAK',\n",
              " 'C(UniMod_4)LAFEC(UniMod_4)PENYR',\n",
              " 'AIGYLNTGYQR',\n",
              " 'KVESELIKPINPR',\n",
              " 'P01877',\n",
              " 'SLEDQVEMLR',\n",
              " 'GGTLGTPQTGSENDALYEYLR',\n",
              " 'HYDGSYSTFGER',\n",
              " 'ALYLQYTDETFR',\n",
              " 'P02452',\n",
              " 'YIETDPANR',\n",
              " 'P07858',\n",
              " 'EQWPQC(UniMod_4)PTIK',\n",
              " 'P13611',\n",
              " 'ASHEEVEGLVEK',\n",
              " 'SGSAHEYSSSPDDAIFQSLAR',\n",
              " 'HQTVPQNTGGKNPDPWAK',\n",
              " 'O14498',\n",
              " 'ALPGTPVASSQPR',\n",
              " 'Q13449',\n",
              " 'AANEVSSADVK',\n",
              " 'VLDLSC(UniMod_4)NR',\n",
              " 'VEKPTADAEAYVFTPNMIC(UniMod_4)AGGEK',\n",
              " 'IALVITDGR',\n",
              " 'AQGFTEDTIVFLPQTDK',\n",
              " 'LGVRPSQGGEAPR',\n",
              " 'KSQPMGLWR',\n",
              " 'VHVSEEGTEPEAMLQVLGPKPALPAGTEDTAKEDAANRK',\n",
              " 'KDSGFQMNQLR',\n",
              " 'Q15904',\n",
              " 'LPYTASSGLMAPR',\n",
              " '35696',\n",
              " '27468',\n",
              " 'TMLLQPAGSLGSYSYR',\n",
              " 'P12109',\n",
              " 'IC(UniMod_4)ANVFC(UniMod_4)GAGR',\n",
              " 'LGADMEDVC(UniMod_4)GR',\n",
              " 'GSFAC(UniMod_4)QC(UniMod_4)PPGYQK',\n",
              " 'P08123',\n",
              " 'SLNNQIETLLTPEGSR',\n",
              " 'ELQQAVLHMEQR',\n",
              " 'Q02818',\n",
              " 'SEYPSIK',\n",
              " 'P07998']"
            ]
          },
          "metadata": {},
          "execution_count": 9
        }
      ],
      "source": [
        "remove_corr = df_col['features'].tolist()\n",
        "remove_corr[0]"
      ]
    },
    {
      "cell_type": "code",
      "execution_count": 10,
      "id": "1dd14332",
      "metadata": {
        "scrolled": true,
        "colab": {
          "base_uri": "https://localhost:8080/"
        },
        "id": "1dd14332",
        "outputId": "0852e868-c9b9-483a-c529-33ddd7849101"
      },
      "outputs": [
        {
          "output_type": "stream",
          "name": "stdout",
          "text": [
            "[382, 1240, 754, 1181, 1080, 1102]\n"
          ]
        }
      ],
      "source": [
        "length = [len(x) for x in remove_corr]\n",
        "\n",
        "print(length)"
      ]
    },
    {
      "cell_type": "markdown",
      "id": "56e945dd",
      "metadata": {
        "id": "56e945dd"
      },
      "source": [
        "### Cross-Validation with Various Features \n",
        "---\n",
        "\n",
        "![image.png](attachment:image.png)"
      ]
    },
    {
      "cell_type": "code",
      "execution_count": 11,
      "id": "c910db50",
      "metadata": {
        "id": "c910db50"
      },
      "outputs": [],
      "source": [
        "from keras.layers import LeakyReLU\n",
        "\n",
        "def train_and_validation(df, range_, folds_ids, length):\n",
        "    \n",
        "    #Setting Fold \n",
        "    df.loc[df.index[0:213], 'fold'] = 1.0\n",
        "    df.loc[df.index[213:426], 'fold'] = 2.0\n",
        "    df.loc[df.index[426:639], 'fold'] = 3.0\n",
        "    df.loc[df.index[639:852], 'fold'] = 4.0\n",
        "    df.loc[df.index[852:1069], 'fold'] = 5.0\n",
        "    \n",
        "    # For Storing Results\n",
        "    final_results = dict()\n",
        "    \n",
        "    # Getting Y columns \n",
        "    y_col = ['updrs_1', 'updrs_2', 'updrs_3', 'updrs_4']\n",
        "    \n",
        "    # Indexing columns of choice \n",
        "    for index, length in zip(range_, length):\n",
        "        \n",
        "        results_average = list()\n",
        "        \n",
        "    # Assigning Folds \n",
        "        for fold in folds_ids:\n",
        "            train_df = df[df['fold'] != fold].copy()\n",
        "            test_df = df[df['fold'] == fold].copy()\n",
        "            \n",
        "            # Assign Y Columns\n",
        "            y_test = test_df[y_col]\n",
        "            y_train = train_df[y_col]\n",
        "            \n",
        "            # Assign X Columns\n",
        "            x_col = remove_corr[index]\n",
        "            X_train = train_df[x_col]\n",
        "            X_test = test_df[x_col]\n",
        "            \n",
        "            #Scaling test & train  \n",
        "            scaler = StandardScaler()\n",
        "\n",
        "            ### Fit the StandardScaler\n",
        "            X_scaler = scaler.fit(X_train)\n",
        "\n",
        "            ### Scale the data\n",
        "            X_train_scaled = X_scaler.transform(X_train)\n",
        "            X_test_scaled = X_scaler.transform(X_test)\n",
        "            \n",
        "            # Conversion to dataframe\n",
        "            scaled_test_df = pd.DataFrame(X_test_scaled, columns = X_test.columns)\n",
        "            scaled_train_df = pd.DataFrame(X_train_scaled, columns = X_train.columns)\n",
        "            \n",
        "#             # Calling Neural Network\n",
        "#             nn_model = tf.keras.models.Sequential()\n",
        "            \n",
        "#             # Defining First Layer \n",
        "#             nn_model.add(tf.keras.layers.Dense(units=36, activation = LeakyReLU(alpha= 0.1), \n",
        "#                                        input_dim = len(scaled_train_df.columns)))\n",
        "\n",
        "#             # First hidden layer\n",
        "#             nn_model.add(tf.keras.layers.Dense(units=128, activation=\"relu\"))\n",
        "#             # Second hidden layer\n",
        "#             nn_model.add(tf.keras.layers.Dense(units=128, activation=\"relu\"))\n",
        "#             # Third hidden layer\n",
        "#             nn_model.add(tf.keras.layers.Dense(units=128, activation=\"relu\"))\n",
        "\n",
        "#             # Output layer\n",
        "#             nn_model.add(tf.keras.layers.Dense(units= 4, activation=\"relu\"))\n",
        "\n",
        "#             #Compile Model\n",
        "#             nn_model.compile(loss=\"mean_squared_error\", optimizer=\"adam\", metrics= ['mean_squared_error'])\n",
        "    \n",
        "#             # Stop Early\n",
        "#             stop_early = tf.keras.callbacks.EarlyStopping(monitor='loss', patience = 15)\n",
        "    \n",
        "#             # Train Model\n",
        "#             nn_model.fit(scaled_train_df[remove_corr[index]], y_train, epochs = 200, callbacks = [stop_early])\n",
        "    \n",
        "            #load model\n",
        "            nn_model = keras.models.load_model(f'FeatureSelection/feature_select_nn_{index}_{fold}')\n",
        "\n",
        "            # Evaluate Model\n",
        "            model_loss, model_accuracy = nn_model.evaluate(scaled_test_df[remove_corr[index]] , y_test, verbose=2) \n",
        "            \n",
        "            results_average.append(model_accuracy)\n",
        "            \n",
        "            # Saving Model \n",
        "            #nn_model.save(f'FeatureSelection/feature_select_nn_{index}_{fold}')\n",
        "        \n",
        "        \n",
        "        # Returning Values\n",
        "        avg_results = np.mean(results_average)\n",
        "        std_results = np.std(results_average) \n",
        "        \n",
        "        final_results[index] = {'AVG_MSE': avg_results, \n",
        "                                'STD_MSE': std_results,\n",
        "                               'feature length': length}\n",
        "        \n",
        "    return final_results"
      ]
    },
    {
      "cell_type": "code",
      "execution_count": 12,
      "id": "8d64a645",
      "metadata": {
        "id": "8d64a645"
      },
      "outputs": [],
      "source": [
        "range_ = [i for i in range(0, 6)]\n",
        "folds_ids = [1, 2, 3, 4, 5]"
      ]
    },
    {
      "cell_type": "code",
      "execution_count": 13,
      "id": "b13b8f51",
      "metadata": {
        "collapsed": true,
        "colab": {
          "base_uri": "https://localhost:8080/",
          "height": 312
        },
        "id": "b13b8f51",
        "outputId": "5def49f8-388e-4047-edc0-84fc617942e9"
      },
      "outputs": [
        {
          "output_type": "error",
          "ename": "OSError",
          "evalue": "ignored",
          "traceback": [
            "\u001b[0;31m---------------------------------------------------------------------------\u001b[0m",
            "\u001b[0;31mOSError\u001b[0m                                   Traceback (most recent call last)",
            "\u001b[0;32m<ipython-input-13-383e7ed97a45>\u001b[0m in \u001b[0;36m<cell line: 1>\u001b[0;34m()\u001b[0m\n\u001b[0;32m----> 1\u001b[0;31m \u001b[0mresults_preliminary\u001b[0m \u001b[0;34m=\u001b[0m \u001b[0mtrain_and_validation\u001b[0m\u001b[0;34m(\u001b[0m\u001b[0mdf\u001b[0m\u001b[0;34m,\u001b[0m \u001b[0mrange_\u001b[0m\u001b[0;34m,\u001b[0m \u001b[0mfolds_ids\u001b[0m \u001b[0;34m=\u001b[0m \u001b[0mfolds_ids\u001b[0m\u001b[0;34m,\u001b[0m \u001b[0mlength\u001b[0m \u001b[0;34m=\u001b[0m \u001b[0mlength\u001b[0m\u001b[0;34m)\u001b[0m\u001b[0;34m\u001b[0m\u001b[0;34m\u001b[0m\u001b[0m\n\u001b[0m",
            "\u001b[0;32m<ipython-input-11-cd23e2b21fe9>\u001b[0m in \u001b[0;36mtrain_and_validation\u001b[0;34m(df, range_, folds_ids, length)\u001b[0m\n\u001b[1;32m     76\u001b[0m \u001b[0;34m\u001b[0m\u001b[0m\n\u001b[1;32m     77\u001b[0m             \u001b[0;31m#load model\u001b[0m\u001b[0;34m\u001b[0m\u001b[0;34m\u001b[0m\u001b[0m\n\u001b[0;32m---> 78\u001b[0;31m             \u001b[0mnn_model\u001b[0m \u001b[0;34m=\u001b[0m \u001b[0mkeras\u001b[0m\u001b[0;34m.\u001b[0m\u001b[0mmodels\u001b[0m\u001b[0;34m.\u001b[0m\u001b[0mload_model\u001b[0m\u001b[0;34m(\u001b[0m\u001b[0;34mf'FeatureSelection/feature_select_nn_{index}_{fold}'\u001b[0m\u001b[0;34m)\u001b[0m\u001b[0;34m\u001b[0m\u001b[0;34m\u001b[0m\u001b[0m\n\u001b[0m\u001b[1;32m     79\u001b[0m \u001b[0;34m\u001b[0m\u001b[0m\n\u001b[1;32m     80\u001b[0m             \u001b[0;31m# Evaluate Model\u001b[0m\u001b[0;34m\u001b[0m\u001b[0;34m\u001b[0m\u001b[0m\n",
            "\u001b[0;32m/usr/local/lib/python3.10/dist-packages/keras/saving/saving_api.py\u001b[0m in \u001b[0;36mload_model\u001b[0;34m(filepath, custom_objects, compile, safe_mode, **kwargs)\u001b[0m\n\u001b[1;32m    210\u001b[0m \u001b[0;34m\u001b[0m\u001b[0m\n\u001b[1;32m    211\u001b[0m     \u001b[0;31m# Legacy case.\u001b[0m\u001b[0;34m\u001b[0m\u001b[0;34m\u001b[0m\u001b[0m\n\u001b[0;32m--> 212\u001b[0;31m     return legacy_sm_saving_lib.load_model(\n\u001b[0m\u001b[1;32m    213\u001b[0m         \u001b[0mfilepath\u001b[0m\u001b[0;34m,\u001b[0m \u001b[0mcustom_objects\u001b[0m\u001b[0;34m=\u001b[0m\u001b[0mcustom_objects\u001b[0m\u001b[0;34m,\u001b[0m \u001b[0mcompile\u001b[0m\u001b[0;34m=\u001b[0m\u001b[0mcompile\u001b[0m\u001b[0;34m,\u001b[0m \u001b[0;34m**\u001b[0m\u001b[0mkwargs\u001b[0m\u001b[0;34m\u001b[0m\u001b[0;34m\u001b[0m\u001b[0m\n\u001b[1;32m    214\u001b[0m     )\n",
            "\u001b[0;32m/usr/local/lib/python3.10/dist-packages/keras/utils/traceback_utils.py\u001b[0m in \u001b[0;36merror_handler\u001b[0;34m(*args, **kwargs)\u001b[0m\n\u001b[1;32m     68\u001b[0m             \u001b[0;31m# To get the full stack trace, call:\u001b[0m\u001b[0;34m\u001b[0m\u001b[0;34m\u001b[0m\u001b[0m\n\u001b[1;32m     69\u001b[0m             \u001b[0;31m# `tf.debugging.disable_traceback_filtering()`\u001b[0m\u001b[0;34m\u001b[0m\u001b[0;34m\u001b[0m\u001b[0m\n\u001b[0;32m---> 70\u001b[0;31m             \u001b[0;32mraise\u001b[0m \u001b[0me\u001b[0m\u001b[0;34m.\u001b[0m\u001b[0mwith_traceback\u001b[0m\u001b[0;34m(\u001b[0m\u001b[0mfiltered_tb\u001b[0m\u001b[0;34m)\u001b[0m \u001b[0;32mfrom\u001b[0m \u001b[0;32mNone\u001b[0m\u001b[0;34m\u001b[0m\u001b[0;34m\u001b[0m\u001b[0m\n\u001b[0m\u001b[1;32m     71\u001b[0m         \u001b[0;32mfinally\u001b[0m\u001b[0;34m:\u001b[0m\u001b[0;34m\u001b[0m\u001b[0;34m\u001b[0m\u001b[0m\n\u001b[1;32m     72\u001b[0m             \u001b[0;32mdel\u001b[0m \u001b[0mfiltered_tb\u001b[0m\u001b[0;34m\u001b[0m\u001b[0;34m\u001b[0m\u001b[0m\n",
            "\u001b[0;32m/usr/local/lib/python3.10/dist-packages/keras/saving/legacy/save.py\u001b[0m in \u001b[0;36mload_model\u001b[0;34m(filepath, custom_objects, compile, options)\u001b[0m\n\u001b[1;32m    228\u001b[0m                     \u001b[0;32mif\u001b[0m \u001b[0misinstance\u001b[0m\u001b[0;34m(\u001b[0m\u001b[0mfilepath_str\u001b[0m\u001b[0;34m,\u001b[0m \u001b[0mstr\u001b[0m\u001b[0;34m)\u001b[0m\u001b[0;34m:\u001b[0m\u001b[0;34m\u001b[0m\u001b[0;34m\u001b[0m\u001b[0m\n\u001b[1;32m    229\u001b[0m                         \u001b[0;32mif\u001b[0m \u001b[0;32mnot\u001b[0m \u001b[0mtf\u001b[0m\u001b[0;34m.\u001b[0m\u001b[0mio\u001b[0m\u001b[0;34m.\u001b[0m\u001b[0mgfile\u001b[0m\u001b[0;34m.\u001b[0m\u001b[0mexists\u001b[0m\u001b[0;34m(\u001b[0m\u001b[0mfilepath_str\u001b[0m\u001b[0;34m)\u001b[0m\u001b[0;34m:\u001b[0m\u001b[0;34m\u001b[0m\u001b[0;34m\u001b[0m\u001b[0m\n\u001b[0;32m--> 230\u001b[0;31m                             raise IOError(\n\u001b[0m\u001b[1;32m    231\u001b[0m                                 \u001b[0;34mf\"No file or directory found at {filepath_str}\"\u001b[0m\u001b[0;34m\u001b[0m\u001b[0;34m\u001b[0m\u001b[0m\n\u001b[1;32m    232\u001b[0m                             )\n",
            "\u001b[0;31mOSError\u001b[0m: No file or directory found at FeatureSelection/feature_select_nn_0_1"
          ]
        }
      ],
      "source": [
        "results_preliminary = train_and_validation(df, range_, folds_ids = folds_ids, length = length)"
      ]
    },
    {
      "cell_type": "code",
      "execution_count": 14,
      "id": "a614fc7b",
      "metadata": {
        "colab": {
          "base_uri": "https://localhost:8080/",
          "height": 166
        },
        "id": "a614fc7b",
        "outputId": "0f769c45-0f89-4a7a-dc29-e130b8cc9b49"
      },
      "outputs": [
        {
          "output_type": "error",
          "ename": "NameError",
          "evalue": "ignored",
          "traceback": [
            "\u001b[0;31m---------------------------------------------------------------------------\u001b[0m",
            "\u001b[0;31mNameError\u001b[0m                                 Traceback (most recent call last)",
            "\u001b[0;32m<ipython-input-14-c5dcdf9c3c6a>\u001b[0m in \u001b[0;36m<cell line: 1>\u001b[0;34m()\u001b[0m\n\u001b[0;32m----> 1\u001b[0;31m \u001b[0mresults_prelim\u001b[0m \u001b[0;34m=\u001b[0m \u001b[0mpd\u001b[0m\u001b[0;34m.\u001b[0m\u001b[0mDataFrame\u001b[0m\u001b[0;34m(\u001b[0m\u001b[0mresults_preliminary\u001b[0m\u001b[0;34m)\u001b[0m\u001b[0;34m.\u001b[0m\u001b[0mtranspose\u001b[0m\u001b[0;34m(\u001b[0m\u001b[0;34m)\u001b[0m\u001b[0;34m\u001b[0m\u001b[0;34m\u001b[0m\u001b[0m\n\u001b[0m",
            "\u001b[0;31mNameError\u001b[0m: name 'results_preliminary' is not defined"
          ]
        }
      ],
      "source": [
        "results_prelim = pd.DataFrame(results_preliminary).transpose()"
      ]
    },
    {
      "cell_type": "code",
      "execution_count": null,
      "id": "be248fc6",
      "metadata": {
        "id": "be248fc6",
        "outputId": "ccdc0075-dad5-4ab0-be97-2bb65be434f8"
      },
      "outputs": [
        {
          "data": {
            "text/html": [
              "<div>\n",
              "<style scoped>\n",
              "    .dataframe tbody tr th:only-of-type {\n",
              "        vertical-align: middle;\n",
              "    }\n",
              "\n",
              "    .dataframe tbody tr th {\n",
              "        vertical-align: top;\n",
              "    }\n",
              "\n",
              "    .dataframe thead th {\n",
              "        text-align: right;\n",
              "    }\n",
              "</style>\n",
              "<table border=\"1\" class=\"dataframe\">\n",
              "  <thead>\n",
              "    <tr style=\"text-align: right;\">\n",
              "      <th></th>\n",
              "      <th>AVG_MSE</th>\n",
              "      <th>STD_MSE</th>\n",
              "      <th>feature length</th>\n",
              "    </tr>\n",
              "  </thead>\n",
              "  <tbody>\n",
              "    <tr>\n",
              "      <th>4</th>\n",
              "      <td>81.444731</td>\n",
              "      <td>9.445333</td>\n",
              "      <td>1080.0</td>\n",
              "    </tr>\n",
              "    <tr>\n",
              "      <th>1</th>\n",
              "      <td>90.158385</td>\n",
              "      <td>5.999007</td>\n",
              "      <td>1240.0</td>\n",
              "    </tr>\n",
              "    <tr>\n",
              "      <th>3</th>\n",
              "      <td>92.025259</td>\n",
              "      <td>6.232055</td>\n",
              "      <td>1181.0</td>\n",
              "    </tr>\n",
              "    <tr>\n",
              "      <th>5</th>\n",
              "      <td>92.134966</td>\n",
              "      <td>6.881763</td>\n",
              "      <td>1102.0</td>\n",
              "    </tr>\n",
              "    <tr>\n",
              "      <th>0</th>\n",
              "      <td>94.992010</td>\n",
              "      <td>10.189912</td>\n",
              "      <td>382.0</td>\n",
              "    </tr>\n",
              "    <tr>\n",
              "      <th>2</th>\n",
              "      <td>101.397375</td>\n",
              "      <td>20.591138</td>\n",
              "      <td>754.0</td>\n",
              "    </tr>\n",
              "  </tbody>\n",
              "</table>\n",
              "</div>"
            ],
            "text/plain": [
              "      AVG_MSE    STD_MSE  feature length\n",
              "4   81.444731   9.445333          1080.0\n",
              "1   90.158385   5.999007          1240.0\n",
              "3   92.025259   6.232055          1181.0\n",
              "5   92.134966   6.881763          1102.0\n",
              "0   94.992010  10.189912           382.0\n",
              "2  101.397375  20.591138           754.0"
            ]
          },
          "execution_count": 15,
          "metadata": {},
          "output_type": "execute_result"
        }
      ],
      "source": [
        "results_prelim.sort_values(by = 'AVG_MSE')"
      ]
    },
    {
      "cell_type": "markdown",
      "id": "341ba376",
      "metadata": {
        "id": "341ba376"
      },
      "source": [
        "### Optimization"
      ]
    },
    {
      "cell_type": "code",
      "execution_count": 15,
      "id": "d8bb8476",
      "metadata": {
        "id": "d8bb8476"
      },
      "outputs": [],
      "source": [
        "best_features = remove_corr[4]"
      ]
    },
    {
      "cell_type": "code",
      "execution_count": 16,
      "id": "498ec0d0",
      "metadata": {
        "id": "498ec0d0"
      },
      "outputs": [],
      "source": [
        " # New Sequential model with hyperparameter options\n",
        "def create_model(hp):\n",
        "    \n",
        "    nn_model = tf.keras.models.Sequential()\n",
        "\n",
        "    # Allow kerastuner to decide which activation function to use in hidden layers\n",
        "    activation = hp.Choice('activation',['relu', 'gelu', 'selu'])\n",
        "    \n",
        "    # Allow kerastuner to decide number of neurons in first layer\n",
        "    nn_model.add(tf.keras.layers.Dense(units=hp.Int('first_units',\n",
        "        min_value=1,\n",
        "        max_value=256,\n",
        "        step=7), activation = activation, input_dim= len(best_features)))\n",
        "\n",
        "    # Allow kerastuner to decide number of hidden layers and neurons in hidden layers\n",
        "    for i in range(hp.Int('num_layers', 1, 5)):\n",
        "        nn_model.add(tf.keras.layers.Dense(units=hp.Int('units_' + str(i),\n",
        "            min_value=32,\n",
        "            max_value=256,\n",
        "            step=16),\n",
        "            activation=activation))\n",
        "    \n",
        "    # optimizer \n",
        "    Optimizer = keras.optimizers.Adam(hp.Choice('learning_rate', values = [1.0, 0.1, 0.01, 0.001, 0.0001]))\n",
        "    \n",
        "    nn_model.add(tf.keras.layers.Dense(units=4, activation= hp.Choice('activation', ['relu'])))\n",
        "\n",
        "    # Compile the model\n",
        "    nn_model.compile(loss=\"mean_absolute_error\", optimizer = Optimizer, metrics=[\"mean_squared_error\"])\n",
        "    \n",
        "    return nn_model"
      ]
    },
    {
      "cell_type": "code",
      "source": [
        "pip install keras-tuner\n"
      ],
      "metadata": {
        "colab": {
          "base_uri": "https://localhost:8080/"
        },
        "id": "j4jjXYuYHrd1",
        "outputId": "184d08e5-9fca-4c1f-9118-0635d712faed"
      },
      "id": "j4jjXYuYHrd1",
      "execution_count": 18,
      "outputs": [
        {
          "output_type": "stream",
          "name": "stdout",
          "text": [
            "Looking in indexes: https://pypi.org/simple, https://us-python.pkg.dev/colab-wheels/public/simple/\n",
            "Collecting keras-tuner\n",
            "  Downloading keras_tuner-1.3.5-py3-none-any.whl (176 kB)\n",
            "\u001b[2K     \u001b[90m━━━━━━━━━━━━━━━━━━━━━━━━━━━━━━━━━━━━━━━\u001b[0m \u001b[32m176.1/176.1 kB\u001b[0m \u001b[31m4.6 MB/s\u001b[0m eta \u001b[36m0:00:00\u001b[0m\n",
            "\u001b[?25hRequirement already satisfied: requests in /usr/local/lib/python3.10/dist-packages (from keras-tuner) (2.27.1)\n",
            "Collecting kt-legacy\n",
            "  Downloading kt_legacy-1.0.5-py3-none-any.whl (9.6 kB)\n",
            "Requirement already satisfied: packaging in /usr/local/lib/python3.10/dist-packages (from keras-tuner) (23.1)\n",
            "Requirement already satisfied: certifi>=2017.4.17 in /usr/local/lib/python3.10/dist-packages (from requests->keras-tuner) (2022.12.7)\n",
            "Requirement already satisfied: urllib3<1.27,>=1.21.1 in /usr/local/lib/python3.10/dist-packages (from requests->keras-tuner) (1.26.15)\n",
            "Requirement already satisfied: charset-normalizer~=2.0.0 in /usr/local/lib/python3.10/dist-packages (from requests->keras-tuner) (2.0.12)\n",
            "Requirement already satisfied: idna<4,>=2.5 in /usr/local/lib/python3.10/dist-packages (from requests->keras-tuner) (3.4)\n",
            "Installing collected packages: kt-legacy, keras-tuner\n",
            "Successfully installed keras-tuner-1.3.5 kt-legacy-1.0.5\n"
          ]
        }
      ]
    },
    {
      "cell_type": "code",
      "execution_count": 19,
      "id": "fb28ab49",
      "metadata": {
        "scrolled": true,
        "id": "fb28ab49"
      },
      "outputs": [],
      "source": [
        "# Import the kerastuner library\n",
        "import keras_tuner as kt\n",
        "\n",
        "tuner = kt.Hyperband(\n",
        "    create_model,\n",
        "    objective= \"mean_squared_error\",\n",
        "    max_epochs= 100,\n",
        "    directory = 'saved',\n",
        "    project_name = 'nn_tune_final',\n",
        "    overwrite = False,\n",
        "    hyperband_iterations= 2)"
      ]
    },
    {
      "cell_type": "code",
      "execution_count": 20,
      "id": "dc22c8c5",
      "metadata": {
        "colab": {
          "base_uri": "https://localhost:8080/"
        },
        "id": "dc22c8c5",
        "outputId": "5429bcf2-1770-459c-8290-b5f72803bf1b"
      },
      "outputs": [
        {
          "output_type": "stream",
          "name": "stdout",
          "text": [
            "Trial 508 Complete [00h 00m 10s]\n",
            "mean_squared_error: 190.63636779785156\n",
            "\n",
            "Best mean_squared_error So Far: 0.2764931917190552\n",
            "Total elapsed time: 00h 33m 46s\n"
          ]
        }
      ],
      "source": [
        "stop_early = tf.keras.callbacks.EarlyStopping(monitor='loss', patience=50)\n",
        "\n",
        "tuner.search(scaled_train_df[best_features] ,y_train, \n",
        "             epochs = 50, \n",
        "             validation_data= (scaled_test_df[best_features], y_test), callbacks=[stop_early])"
      ]
    },
    {
      "cell_type": "code",
      "execution_count": 21,
      "id": "9074fe7d",
      "metadata": {
        "colab": {
          "base_uri": "https://localhost:8080/"
        },
        "id": "9074fe7d",
        "outputId": "28259f94-99a6-4991-9174-0043fea25d92"
      },
      "outputs": [
        {
          "output_type": "execute_result",
          "data": {
            "text/plain": [
              "{'activation': 'gelu',\n",
              " 'first_units': 218,\n",
              " 'num_layers': 3,\n",
              " 'units_0': 160,\n",
              " 'learning_rate': 0.0001,\n",
              " 'units_1': 256,\n",
              " 'units_2': 256,\n",
              " 'units_3': 192,\n",
              " 'units_4': 80,\n",
              " 'tuner/epochs': 100,\n",
              " 'tuner/initial_epoch': 34,\n",
              " 'tuner/bracket': 1,\n",
              " 'tuner/round': 1,\n",
              " 'tuner/trial_id': '0493'}"
            ]
          },
          "metadata": {},
          "execution_count": 21
        }
      ],
      "source": [
        "# Getting Best Parameters\n",
        "best_params = tuner.get_best_hyperparameters(num_trials=1)[0]\n",
        "best_params.values"
      ]
    },
    {
      "cell_type": "code",
      "execution_count": 22,
      "id": "fd5f5eb0",
      "metadata": {
        "id": "fd5f5eb0"
      },
      "outputs": [],
      "source": [
        "best_model = tuner.get_best_models(1)[0]"
      ]
    },
    {
      "cell_type": "code",
      "execution_count": 23,
      "id": "125d8964",
      "metadata": {
        "scrolled": true,
        "colab": {
          "base_uri": "https://localhost:8080/"
        },
        "id": "125d8964",
        "outputId": "b2c16c42-0979-4b34-94d5-ee58992381a5"
      },
      "outputs": [
        {
          "output_type": "stream",
          "name": "stdout",
          "text": [
            "7/7 - 0s - loss: 3.4457 - mean_squared_error: 33.2217 - 277ms/epoch - 40ms/step\n",
            "Loss: 3.4457242488861084, mean_squared_error: 33.221675872802734\n"
          ]
        }
      ],
      "source": [
        "model_loss, model_accuracy = best_model.evaluate(scaled_test_df[best_features],y_test,verbose=2)\n",
        "print(f\"Loss: {model_loss}, mean_squared_error: {model_accuracy}\")"
      ]
    },
    {
      "cell_type": "code",
      "execution_count": 24,
      "id": "b91cf077",
      "metadata": {
        "colab": {
          "base_uri": "https://localhost:8080/"
        },
        "id": "b91cf077",
        "outputId": "07e6a422-def4-4389-9d72-3e8597d5361d"
      },
      "outputs": [
        {
          "output_type": "stream",
          "name": "stdout",
          "text": [
            "27/27 - 0s - loss: 0.2498 - mean_squared_error: 0.2394 - 85ms/epoch - 3ms/step\n",
            "Loss: 0.24975164234638214, mean_squared_error: 0.23936347663402557\n"
          ]
        }
      ],
      "source": [
        "model_loss, model_accuracy = best_model.evaluate(scaled_train_df[best_features],y_train,verbose=2)\n",
        "print(f\"Loss: {model_loss}, mean_squared_error: {model_accuracy}\")"
      ]
    },
    {
      "cell_type": "markdown",
      "id": "a29861bc",
      "metadata": {
        "id": "a29861bc"
      },
      "source": [
        "### Cross Validation on Best Model "
      ]
    },
    {
      "cell_type": "code",
      "execution_count": 25,
      "id": "a041f04d",
      "metadata": {
        "colab": {
          "base_uri": "https://localhost:8080/"
        },
        "id": "a041f04d",
        "outputId": "55bb8e5b-056b-4026-82d6-392af7dd6942"
      },
      "outputs": [
        {
          "output_type": "execute_result",
          "data": {
            "text/plain": [
              "{'activation': 'gelu',\n",
              " 'first_units': 218,\n",
              " 'num_layers': 3,\n",
              " 'units_0': 160,\n",
              " 'learning_rate': 0.0001,\n",
              " 'units_1': 256,\n",
              " 'units_2': 256,\n",
              " 'units_3': 192,\n",
              " 'units_4': 80,\n",
              " 'tuner/epochs': 100,\n",
              " 'tuner/initial_epoch': 34,\n",
              " 'tuner/bracket': 1,\n",
              " 'tuner/round': 1,\n",
              " 'tuner/trial_id': '0493'}"
            ]
          },
          "metadata": {},
          "execution_count": 25
        }
      ],
      "source": [
        "best_params.values"
      ]
    },
    {
      "cell_type": "code",
      "execution_count": 26,
      "id": "da7b6385",
      "metadata": {
        "id": "da7b6385"
      },
      "outputs": [],
      "source": [
        "def best_model_validation(df, folds_ids):\n",
        "    \n",
        "    #Setting Fold \n",
        "    df.loc[df.index[0:213], 'fold'] = 1.0\n",
        "    df.loc[df.index[213:426], 'fold'] = 2.0\n",
        "    df.loc[df.index[426:639], 'fold'] = 3.0\n",
        "    df.loc[df.index[639:852], 'fold'] = 4.0\n",
        "    df.loc[df.index[852:1069], 'fold'] = 5.0\n",
        "    \n",
        "    # For Storing Final Results\n",
        "    final_results = dict()\n",
        "    \n",
        "    # Getting Y columns \n",
        "    y_col = ['updrs_1', 'updrs_2', 'updrs_3', 'updrs_4']\n",
        "    \n",
        "    # For Storing Results of Folds\n",
        "    results_average = list()\n",
        "        \n",
        "    # Assigning Folds \n",
        "    for fold in folds_ids:\n",
        "        train_df = df[df['fold'] != fold].copy()\n",
        "        test_df = df[df['fold'] == fold].copy()\n",
        "            \n",
        "        # Assign Y Columns\n",
        "        y_test = test_df[y_col]\n",
        "        y_train = train_df[y_col]\n",
        "            \n",
        "        # Assign X Columns\n",
        "        x_col = best_features\n",
        "        X_train = train_df[x_col]\n",
        "        X_test = test_df[x_col]\n",
        "            \n",
        "        #Scaling test & train  \n",
        "        scaler = StandardScaler()\n",
        "\n",
        "        ### Fit the StandardScaler\n",
        "        X_scaler = scaler.fit(X_train)\n",
        "\n",
        "        ### Scale the data\n",
        "        X_train_scaled = X_scaler.transform(X_train)\n",
        "        X_test_scaled = X_scaler.transform(X_test)\n",
        "            \n",
        "        # Conversion to dataframe\n",
        "        scaled_test_df = pd.DataFrame(X_test_scaled, columns = X_test.columns)\n",
        "        scaled_train_df = pd.DataFrame(X_train_scaled, columns = X_train.columns)\n",
        "            \n",
        "#         # Calling Neural Network\n",
        "#         nn_model = tf.keras.models.Sequential()\n",
        "            \n",
        "#         # Defining First Layer \n",
        "#         nn_model.add(tf.keras.layers.Dense(units=148, activation = 'selu', \n",
        "#                                        input_dim = len(scaled_train_df.columns)))\n",
        "\n",
        "#         # First hidden layer\n",
        "#         nn_model.add(tf.keras.layers.Dense(units=80, activation=\"selu\"))\n",
        "#         # Second hidden layer\n",
        "#         nn_model.add(tf.keras.layers.Dense(units=176, activation=\"selu\"))\n",
        "\n",
        "#         # Output layer\n",
        "#         nn_model.add(tf.keras.layers.Dense(units= 4, activation=\"selu\"))\n",
        "\n",
        "#         #Compile Model\n",
        "#         nn_model.compile(loss=\"mean_squared_error\", optimizer=\"adam\", metrics= ['mean_squared_error'])\n",
        "    \n",
        "#         # Train Model\n",
        "#         nn_model.fit(scaled_train_df[best_features], y_train, epochs = 100)\n",
        "    \n",
        "        #load model\n",
        "        nn_model = keras.models.load_model(f'FeatureSelection/feature_select_nn_best_model_{fold}')\n",
        "\n",
        "        # Evaluate Model\n",
        "        model_loss, model_accuracy = nn_model.evaluate(scaled_test_df[best_features] , y_test, verbose=2) \n",
        "            \n",
        "        results_average.append(model_accuracy)\n",
        "            \n",
        "        # Saving Model \n",
        "        #nn_model.save(f'FeatureSelection/feature_select_nn_best_model_{fold}')\n",
        "        \n",
        "        \n",
        "    # Returning Values\n",
        "    avg_results = np.mean(results_average)\n",
        "    std_results = np.std(results_average) \n",
        "        \n",
        "    final_results['Results'] = {'AVG_MSE': avg_results, \n",
        "                            'STD_MSE': std_results,\n",
        "                            'All Results': results_average}\n",
        "        \n",
        "    return final_results"
      ]
    },
    {
      "cell_type": "code",
      "execution_count": null,
      "id": "346bdaf0",
      "metadata": {
        "id": "346bdaf0",
        "outputId": "0e7012a0-b50f-4098-e84f-9c7a0269e289"
      },
      "outputs": [
        {
          "name": "stdout",
          "output_type": "stream",
          "text": [
            "7/7 - 0s - loss: 94.3120 - mean_squared_error: 94.3120 - 88ms/epoch - 13ms/step\n",
            "7/7 - 0s - loss: 88.7893 - mean_squared_error: 88.7893 - 86ms/epoch - 12ms/step\n",
            "7/7 - 0s - loss: 74.7173 - mean_squared_error: 74.7173 - 91ms/epoch - 13ms/step\n",
            "7/7 - 0s - loss: 81.2498 - mean_squared_error: 81.2498 - 87ms/epoch - 12ms/step\n",
            "7/7 - 0s - loss: 75.6258 - mean_squared_error: 75.6258 - 91ms/epoch - 13ms/step\n"
          ]
        }
      ],
      "source": [
        "best_model_test = best_model_validation(df, folds_ids)"
      ]
    },
    {
      "cell_type": "code",
      "execution_count": null,
      "id": "683c63c0",
      "metadata": {
        "id": "683c63c0",
        "outputId": "abd59d7c-515c-43b0-c3b0-3c9a28ba6b2f"
      },
      "outputs": [
        {
          "data": {
            "text/plain": [
              "{'Results': {'AVG_MSE': 82.93883056640625,\n",
              "  'STD_MSE': 7.582940410223574,\n",
              "  'All Results': [94.31202697753906,\n",
              "   88.78929138183594,\n",
              "   74.71730041503906,\n",
              "   81.24977111816406,\n",
              "   75.62576293945312]}}"
            ]
          },
          "execution_count": 27,
          "metadata": {},
          "output_type": "execute_result"
        }
      ],
      "source": [
        "best_model_test"
      ]
    },
    {
      "cell_type": "markdown",
      "id": "ee546055",
      "metadata": {
        "id": "ee546055"
      },
      "source": [
        "### Regularization "
      ]
    },
    {
      "cell_type": "code",
      "execution_count": null,
      "id": "a2c36426",
      "metadata": {
        "id": "a2c36426"
      },
      "outputs": [],
      "source": [
        "# regulariztion_values\n",
        "range_ = [0, 0.001, 0.01, 0.1, 0.5, 0.8, 1.0]"
      ]
    },
    {
      "cell_type": "code",
      "execution_count": null,
      "id": "da50799c",
      "metadata": {
        "id": "da50799c"
      },
      "outputs": [],
      "source": [
        "from keras.layers import LeakyReLU\n",
        "\n",
        "def regularization(df, range_, folds_ids):\n",
        "    \n",
        "    #Setting Fold \n",
        "    df.loc[df.index[0:213], 'fold'] = 1.0\n",
        "    df.loc[df.index[213:426], 'fold'] = 2.0\n",
        "    df.loc[df.index[426:639], 'fold'] = 3.0\n",
        "    df.loc[df.index[639:852], 'fold'] = 4.0\n",
        "    df.loc[df.index[852:1069], 'fold'] = 5.0\n",
        "    \n",
        "    # For Storing Results\n",
        "    final_results = dict()\n",
        "    \n",
        "    # Getting Y columns \n",
        "    y_col = ['updrs_1', 'updrs_2', 'updrs_3', 'updrs_4']\n",
        "    \n",
        "    # Indexing columns of choice \n",
        "    for index in range_:\n",
        "        \n",
        "        results_average = list()\n",
        "        \n",
        "    # Assigning Folds \n",
        "        for fold in folds_ids:\n",
        "            train_df = df[df['fold'] != fold].copy()\n",
        "            test_df = df[df['fold'] == fold].copy()\n",
        "            \n",
        "            # Assign Y Columns\n",
        "            y_test = test_df[y_col]\n",
        "            y_train = train_df[y_col]\n",
        "            \n",
        "            # Assign X Columns\n",
        "            x_col = best_features\n",
        "            X_train = train_df[x_col]\n",
        "            X_test = test_df[x_col]\n",
        "            \n",
        "            #Scaling test & train  \n",
        "            scaler = StandardScaler()\n",
        "\n",
        "            ### Fit the StandardScaler\n",
        "            X_scaler = scaler.fit(X_train)\n",
        "\n",
        "            ### Scale the data\n",
        "            X_train_scaled = X_scaler.transform(X_train)\n",
        "            X_test_scaled = X_scaler.transform(X_test)\n",
        "            \n",
        "            # Conversion to dataframe\n",
        "            scaled_test_df = pd.DataFrame(X_test_scaled, columns = X_test.columns)\n",
        "            scaled_train_df = pd.DataFrame(X_train_scaled, columns = X_train.columns)\n",
        "            \n",
        "#             # Calling Neural Network\n",
        "#             nn_model = tf.keras.models.Sequential()\n",
        "            \n",
        "#             # Defining First Layer \n",
        "#             nn_model.add(tf.keras.layers.Dense(units=36, activation = LeakyReLU(alpha= 0.1), \n",
        "#                                     input_dim = len(scaled_train_df[best_features].columns),\n",
        "#                                     kernel_initializer='ones',\n",
        "#                                     activity_regularizer=tf.keras.regularizers.L2(index)))\n",
        "\n",
        "#             # First hidden layer\n",
        "#             nn_model.add(tf.keras.layers.Dense(units=128, activation=\"relu\"))\n",
        "#             # Second hidden layer\n",
        "#             nn_model.add(tf.keras.layers.Dense(units=128, activation=\"relu\"))\n",
        "#             # Third hidden layer\n",
        "#             nn_model.add(tf.keras.layers.Dense(units=128, activation=\"relu\"))\n",
        "\n",
        "#             # Output layer\n",
        "#             nn_model.add(tf.keras.layers.Dense(units= 4, activation=\"relu\"))\n",
        "\n",
        "#             #Compile Model\n",
        "#             nn_model.compile(loss=\"mean_squared_error\", optimizer=\"adam\", metrics= ['mean_squared_error'])\n",
        "    \n",
        "#             # Stop Early\n",
        "#             stop_early = tf.keras.callbacks.EarlyStopping(monitor='loss', patience = 15)\n",
        "    \n",
        "#             # Train Model\n",
        "#             nn_model.fit(scaled_train_df[best_features], y_train, epochs = 150, callbacks = [stop_early])\n",
        "    \n",
        "            #load model\n",
        "            nn_model = keras.models.load_model(f'FeatureSelection/feature_select_nn_reg_{index}_{fold}')\n",
        "\n",
        "            # Evaluate Model\n",
        "            model_loss, model_accuracy = nn_model.evaluate(scaled_test_df[best_features] , y_test, verbose=2) \n",
        "            \n",
        "            results_average.append(model_accuracy)\n",
        "            \n",
        "            # Saving Model \n",
        "            #n_model.save(f'FeatureSelection/feature_select_nn_reg_{index}_{fold}')\n",
        "        \n",
        "        \n",
        "        # Returning Values\n",
        "        avg_results = np.mean(results_average)\n",
        "        std_results = np.std(results_average) \n",
        "        \n",
        "        final_results[index] = {'AVG_MSE': avg_results, \n",
        "                                'STD_MSE': std_results,\n",
        "                                'All Results': results_average}\n",
        "        \n",
        "    return final_results"
      ]
    },
    {
      "cell_type": "code",
      "execution_count": null,
      "id": "fde5f836",
      "metadata": {
        "scrolled": true,
        "id": "fde5f836",
        "outputId": "ba0a7f9d-f7db-411c-dbbc-47a4acff8c9f"
      },
      "outputs": [
        {
          "name": "stdout",
          "output_type": "stream",
          "text": [
            "7/7 - 0s - loss: 158.0483 - mean_squared_error: 158.0483 - 99ms/epoch - 14ms/step\n",
            "7/7 - 0s - loss: 118.8379 - mean_squared_error: 118.8379 - 100ms/epoch - 14ms/step\n",
            "7/7 - 0s - loss: 98.5398 - mean_squared_error: 98.5398 - 99ms/epoch - 14ms/step\n",
            "7/7 - 0s - loss: 188.6232 - mean_squared_error: 188.6232 - 98ms/epoch - 14ms/step\n",
            "7/7 - 0s - loss: 106.8216 - mean_squared_error: 106.8216 - 97ms/epoch - 14ms/step\n",
            "7/7 - 0s - loss: 98.3790 - mean_squared_error: 89.8910 - 101ms/epoch - 14ms/step\n",
            "7/7 - 0s - loss: 108.1625 - mean_squared_error: 92.3119 - 99ms/epoch - 14ms/step\n",
            "7/7 - 0s - loss: 79.7267 - mean_squared_error: 71.6242 - 102ms/epoch - 15ms/step\n",
            "7/7 - 0s - loss: 189.0635 - mean_squared_error: 188.6232 - 99ms/epoch - 14ms/step\n",
            "7/7 - 0s - loss: 87.7296 - mean_squared_error: 82.2549 - 101ms/epoch - 14ms/step\n",
            "7/7 - 0s - loss: 107.4373 - mean_squared_error: 94.8213 - 103ms/epoch - 15ms/step\n",
            "7/7 - 0s - loss: 102.5066 - mean_squared_error: 91.0888 - 98ms/epoch - 14ms/step\n",
            "7/7 - 0s - loss: 80.2831 - mean_squared_error: 68.3699 - 102ms/epoch - 15ms/step\n",
            "7/7 - 0s - loss: 107.1641 - mean_squared_error: 100.0492 - 106ms/epoch - 15ms/step\n",
            "7/7 - 0s - loss: 85.6187 - mean_squared_error: 79.1775 - 104ms/epoch - 15ms/step\n",
            "7/7 - 0s - loss: 172.1094 - mean_squared_error: 80.6583 - 103ms/epoch - 15ms/step\n",
            "7/7 - 0s - loss: 232.8237 - mean_squared_error: 165.8979 - 103ms/epoch - 15ms/step\n",
            "7/7 - 0s - loss: 242.4324 - mean_squared_error: 163.8732 - 104ms/epoch - 15ms/step\n",
            "7/7 - 0s - loss: 133.6313 - mean_squared_error: 86.5713 - 104ms/epoch - 15ms/step\n",
            "7/7 - 0s - loss: 197.6725 - mean_squared_error: 156.3449 - 101ms/epoch - 14ms/step\n",
            "7/7 - 0s - loss: 533.5263 - mean_squared_error: 84.8776 - 99ms/epoch - 14ms/step\n",
            "7/7 - 0s - loss: 425.8966 - mean_squared_error: 82.5426 - 99ms/epoch - 14ms/step\n",
            "7/7 - 0s - loss: 463.5048 - mean_squared_error: 68.3260 - 102ms/epoch - 15ms/step\n",
            "7/7 - 0s - loss: 319.2104 - mean_squared_error: 92.5060 - 100ms/epoch - 14ms/step\n",
            "7/7 - 0s - loss: 287.6787 - mean_squared_error: 74.5725 - 102ms/epoch - 15ms/step\n",
            "7/7 - 0s - loss: 801.6264 - mean_squared_error: 91.9614 - 101ms/epoch - 14ms/step\n",
            "7/7 - 0s - loss: 615.1794 - mean_squared_error: 80.5839 - 101ms/epoch - 14ms/step\n",
            "7/7 - 0s - loss: 708.9799 - mean_squared_error: 81.3434 - 103ms/epoch - 15ms/step\n",
            "7/7 - 0s - loss: 436.3363 - mean_squared_error: 77.6426 - 101ms/epoch - 14ms/step\n",
            "7/7 - 0s - loss: 414.9592 - mean_squared_error: 72.4898 - 99ms/epoch - 14ms/step\n",
            "7/7 - 0s - loss: 926.3865 - mean_squared_error: 87.2300 - 101ms/epoch - 14ms/step\n",
            "7/7 - 0s - loss: 765.1219 - mean_squared_error: 73.7080 - 103ms/epoch - 15ms/step\n",
            "7/7 - 0s - loss: 829.1898 - mean_squared_error: 69.1393 - 102ms/epoch - 15ms/step\n",
            "7/7 - 0s - loss: 529.6196 - mean_squared_error: 81.8268 - 103ms/epoch - 15ms/step\n",
            "7/7 - 0s - loss: 492.5088 - mean_squared_error: 67.6675 - 102ms/epoch - 15ms/step\n"
          ]
        }
      ],
      "source": [
        "results_reg = regularization(df, range_, folds_ids)"
      ]
    },
    {
      "cell_type": "code",
      "execution_count": null,
      "id": "56fa444d",
      "metadata": {
        "id": "56fa444d"
      },
      "outputs": [],
      "source": [
        "df_best_model = pd.DataFrame(results_reg).transpose()"
      ]
    },
    {
      "cell_type": "code",
      "execution_count": null,
      "id": "b76cbd84",
      "metadata": {
        "id": "b76cbd84"
      },
      "outputs": [],
      "source": [
        "df_best_model.drop(['AVG_MSE', 'STD_MSE'], axis = 1, inplace = True)"
      ]
    },
    {
      "cell_type": "code",
      "execution_count": null,
      "id": "4ec57b2a",
      "metadata": {
        "id": "4ec57b2a"
      },
      "outputs": [],
      "source": [
        "df_best_model = df_best_model.explode('All Results').reset_index()"
      ]
    },
    {
      "cell_type": "code",
      "execution_count": null,
      "id": "a429e0cf",
      "metadata": {
        "id": "a429e0cf"
      },
      "outputs": [],
      "source": [
        "df_best_model.rename({'index': 'L2 Regularization', 'All Results':'Avg MSE'}, axis = 1, inplace = True)"
      ]
    },
    {
      "cell_type": "code",
      "execution_count": null,
      "id": "e72698eb",
      "metadata": {
        "id": "e72698eb",
        "outputId": "21ed82cb-a9c4-47eb-f726-c5b3e3afc5b6"
      },
      "outputs": [
        {
          "data": {
            "text/plain": [
              "Index(['L2 Regularization', 'Avg MSE'], dtype='object')"
            ]
          },
          "execution_count": 213,
          "metadata": {},
          "output_type": "execute_result"
        }
      ],
      "source": [
        "df_best_model.columns"
      ]
    },
    {
      "cell_type": "code",
      "execution_count": null,
      "id": "8c9bcc12",
      "metadata": {
        "id": "8c9bcc12",
        "outputId": "8a439879-4c9c-4b45-c5df-019d0049d464"
      },
      "outputs": [
        {
          "data": {
            "image/png": "[encoded data removed]",
            "text/plain": [
              "<Figure size 800x600 with 1 Axes>"
            ]
          },
          "metadata": {},
          "output_type": "display_data"
        }
      ],
      "source": [
        "sns.set_palette(\"tab20\")\n",
        "\n",
        "plt.figure(figsize=(8, 6), dpi=100)\n",
        "sns.pointplot(\n",
        "    data= df_best_model , x=\"L2 Regularization\", y=\"Avg MSE\",\n",
        "    errorbar=(\"se\", 50), capsize=.3, join=False, hue=\"L2 Regularization\")\n",
        "\n",
        "plt.title('Avg MSE with SE error Bars',  fontsize='large', fontweight='bold')\n",
        "plt.xlabel('L2 Reg Value',  fontsize='large', fontweight='bold')\n",
        "plt.ylabel('Avg MSE',  fontsize='large', fontweight='bold')\n",
        "\n",
        "plt.show()"
      ]
    },
    {
      "cell_type": "markdown",
      "id": "3d8487ef",
      "metadata": {
        "id": "3d8487ef"
      },
      "source": [
        "## Final Prediction "
      ]
    },
    {
      "cell_type": "markdown",
      "id": "e2976aae",
      "metadata": {
        "id": "e2976aae"
      },
      "source": [
        "### Data transformation "
      ]
    },
    {
      "cell_type": "code",
      "execution_count": null,
      "id": "79f9cd9d",
      "metadata": {
        "id": "79f9cd9d"
      },
      "outputs": [],
      "source": [
        "### Split & Train\n",
        "\n",
        "# Getting X, Y columns \n",
        "y_col = ['updrs_1', 'updrs_2', 'updrs_3', 'updrs_4']\n",
        "x_col = [x for x in df.columns if x not in y_col]\n",
        "\n",
        "# Splitting into X and Y \n",
        "\n",
        "X = df[x_col]\n",
        "Y = df[y_col]\n",
        "\n",
        "\n",
        "# Split the preprocessed data into a training and testing dataset\n",
        "X_train, X_test, y_train, y_test = train_test_split(X, Y, test_size = 0.2, random_state = 1)\n",
        "\n",
        "### Scaling Data \n",
        "\n",
        "# Create a StandardScaler instances\n",
        "scaler = StandardScaler()\n",
        "\n",
        "# Fit the StandardScaler\n",
        "X_scaler = scaler.fit(X_train)\n",
        "\n",
        "# Scale the data\n",
        "X_train_scaled = X_scaler.transform(X_train)\n",
        "X_test_scaled = X_scaler.transform(X_test)\n",
        "\n",
        "# Conversion to dataframe\n",
        "scaled_test_df = pd.DataFrame(X_test_scaled, columns = X_test.columns)\n",
        "scaled_train_df = pd.DataFrame(X_train_scaled, columns = X_train.columns)"
      ]
    },
    {
      "cell_type": "code",
      "execution_count": null,
      "id": "5df656f8",
      "metadata": {
        "id": "5df656f8",
        "outputId": "3718e3d4-73a1-487b-d6e6-7943b9a7b5dd"
      },
      "outputs": [
        {
          "data": {
            "text/plain": [
              "{'activation': 'selu',\n",
              " 'first_units': 148,\n",
              " 'num_layers': 2,\n",
              " 'units_0': 80,\n",
              " 'learning_rate': 0.001,\n",
              " 'units_1': 80,\n",
              " 'units_2': 176,\n",
              " 'units_3': 240,\n",
              " 'units_4': 256,\n",
              " 'tuner/epochs': 100,\n",
              " 'tuner/initial_epoch': 34,\n",
              " 'tuner/bracket': 3,\n",
              " 'tuner/round': 3,\n",
              " 'tuner/trial_id': '0196'}"
            ]
          },
          "execution_count": 37,
          "metadata": {},
          "output_type": "execute_result"
        }
      ],
      "source": [
        "best_params.values"
      ]
    },
    {
      "cell_type": "code",
      "execution_count": null,
      "id": "e537bb9c",
      "metadata": {
        "id": "e537bb9c"
      },
      "outputs": [],
      "source": [
        "from keras.layers import LeakyReLU\n",
        "\n",
        "def final_model(df):\n",
        "        ### Split & Train\n",
        "\n",
        "        # Getting X, Y columns \n",
        "        y_col = ['updrs_1', 'updrs_2', 'updrs_3', 'updrs_4']\n",
        "        x_col = [x for x in df.columns if x not in y_col]\n",
        "\n",
        "        # Splitting into X and Y \n",
        "\n",
        "        X = df[x_col]\n",
        "        Y = df[y_col]\n",
        "\n",
        "        # Split the preprocessed data into a training and testing dataset\n",
        "        X_train, X_test, y_train, y_test = train_test_split(X, Y, test_size = 0.2, random_state = 1)\n",
        "\n",
        "        ### Scaling Data \n",
        "\n",
        "        # Create a StandardScaler instances\n",
        "        scaler = StandardScaler()\n",
        "\n",
        "        # Fit the StandardScaler\n",
        "        X_scaler = scaler.fit(X_train)\n",
        "\n",
        "        # Scale the data\n",
        "        X_train_scaled = X_scaler.transform(X_train)\n",
        "        X_test_scaled = X_scaler.transform(X_test)\n",
        "\n",
        "        # Conversion to dataframe\n",
        "        scaled_test_df = pd.DataFrame(X_test_scaled, columns = X_test.columns)\n",
        "        scaled_train_df = pd.DataFrame(X_train_scaled, columns = X_train.columns)\n",
        "            \n",
        "#         # Calling Neural Network\n",
        "#         nn_model = tf.keras.models.Sequential()\n",
        "            \n",
        "#         # Defining First Layer \n",
        "#         nn_model.add(tf.keras.layers.Dense(units=36, activation = LeakyReLU(alpha= 0.1), \n",
        "#                                     input_dim = len(scaled_train_df[best_features].columns),\n",
        "#                                     kernel_initializer='ones',\n",
        "#                                     activity_regularizer=tf.keras.regularizers.L2(1.0)))\n",
        "\n",
        "#         # First hidden layer\n",
        "#         nn_model.add(tf.keras.layers.Dense(units=128, activation=\"relu\"))\n",
        "#         # Second hidden layer\n",
        "#         nn_model.add(tf.keras.layers.Dense(units=128, activation=\"relu\"))\n",
        "#         # Third hidden layer\n",
        "#         nn_model.add(tf.keras.layers.Dense(units=128, activation=\"relu\"))\n",
        "\n",
        "#         # Output layer\n",
        "#         nn_model.add(tf.keras.layers.Dense(units= 4, activation=\"relu\"))\n",
        "\n",
        "#         #Compile Model\n",
        "#         nn_model.compile(loss=\"mean_squared_error\", optimizer=\"adam\", metrics= ['mean_squared_error'])\n",
        "    \n",
        "#         # Stop Early\n",
        "#         stop_early = tf.keras.callbacks.EarlyStopping(monitor='loss', patience = 10)\n",
        "    \n",
        "#         # Train Model\n",
        "#         nn_model.fit(scaled_train_df[best_features], y_train, epochs = 150, callbacks = [stop_early], verbose = 0)\n",
        "    \n",
        "        #load model\n",
        "        nn_model = keras.models.load_model(f'FeatureSelection/final_model_5.h5')\n",
        "\n",
        "        # Evaluate Model\n",
        "        model_loss, model_accuracy = nn_model.evaluate(scaled_test_df[best_features] , y_test, verbose= -1) \n",
        "        \n",
        "        # Evaluate Train \n",
        "        model_loss_train, model_accuracy_train = nn_model.evaluate(scaled_train_df[best_features] , y_train, verbose= -1) \n",
        "        \n",
        "        # Prediction    \n",
        "        y_pred = nn_model.predict(scaled_test_df[best_features]) \n",
        "        \n",
        "        # Saving Model \n",
        "        #nn_model.save(f'FeatureSelection/final_model_10.h5')\n",
        "        \n",
        "        return model_accuracy, model_accuracy_train, y_pred, y_test"
      ]
    },
    {
      "cell_type": "code",
      "execution_count": null,
      "id": "17604d09",
      "metadata": {
        "scrolled": true,
        "id": "17604d09",
        "outputId": "03375baa-3b32-4286-a69c-1c157cad2b65"
      },
      "outputs": [
        {
          "name": "stdout",
          "output_type": "stream",
          "text": [
            "7/7 [==============================] - 0s 1ms/step\n",
            "36.189395904541016 28.114030838012695\n"
          ]
        }
      ],
      "source": [
        "model_accuracy, model_accuracy_train, y_pred, y_test = final_model(df)\n",
        "print(model_accuracy, model_accuracy_train)"
      ]
    },
    {
      "cell_type": "code",
      "execution_count": null,
      "id": "5b777237",
      "metadata": {
        "id": "5b777237"
      },
      "outputs": [],
      "source": [
        "#for i in range(20):\n",
        "    #model_accuracy, model_accuracy_train, y_pred = final_model(df, i)\n",
        "    #print(model_accuracy, model_accuracy_train)"
      ]
    },
    {
      "cell_type": "code",
      "execution_count": null,
      "id": "446084a9",
      "metadata": {
        "id": "446084a9"
      },
      "outputs": [],
      "source": [
        "sum_ = ['updrs_1', 'updrs_2', 'updrs_3', 'updrs_4']"
      ]
    },
    {
      "cell_type": "code",
      "execution_count": null,
      "id": "7506d832",
      "metadata": {
        "id": "7506d832"
      },
      "outputs": [],
      "source": [
        "y_pred = pd.DataFrame(y_pred, columns = sum_)"
      ]
    },
    {
      "cell_type": "code",
      "execution_count": null,
      "id": "f49d9c10",
      "metadata": {
        "id": "f49d9c10"
      },
      "outputs": [],
      "source": [
        "y_test.reset_index(inplace = True)"
      ]
    },
    {
      "cell_type": "code",
      "execution_count": null,
      "id": "d1d3f3c9",
      "metadata": {
        "id": "d1d3f3c9"
      },
      "outputs": [],
      "source": [
        "y_pred['sum_score'] = y_pred[sum_].sum(axis = 1)\n",
        "y_test['sum_score'] = y_test[sum_].sum(axis = 1)"
      ]
    },
    {
      "cell_type": "code",
      "execution_count": null,
      "id": "7280406b",
      "metadata": {
        "id": "7280406b"
      },
      "outputs": [],
      "source": [
        "Y_test_final = y_test['sum_score'].tolist()\n",
        "Y_Pred_final = y_pred['sum_score'].tolist()"
      ]
    },
    {
      "cell_type": "code",
      "execution_count": null,
      "id": "40800f62",
      "metadata": {
        "id": "40800f62",
        "outputId": "b0cee6a3-f5c3-4298-e0bc-ddb09f5cf7d2"
      },
      "outputs": [
        {
          "name": "stderr",
          "output_type": "stream",
          "text": [
            "/opt/anaconda3/lib/python3.9/site-packages/seaborn/_decorators.py:36: FutureWarning: Pass the following variable as a keyword arg: x. From version 0.12, the only valid positional argument will be `data`, and passing other arguments without an explicit keyword will result in an error or misinterpretation.\n",
            "  warnings.warn(\n"
          ]
        },
        {
          "data": {
            "image/png": "[encoded data removed]",
            "text/plain": [
              "<Figure size 800x600 with 1 Axes>"
            ]
          },
          "metadata": {},
          "output_type": "display_data"
        }
      ],
      "source": [
        "me = abs(y_test['sum_score'] - y_pred['sum_score'])\n",
        "plt.figure(figsize=(8, 6), dpi=100)\n",
        "sns.boxplot(me)\n",
        "plt.title('Boxplot of ME of NN Model', fontsize='large', fontweight='bold')\n",
        "plt.show()"
      ]
    },
    {
      "cell_type": "code",
      "execution_count": null,
      "id": "70bc9697",
      "metadata": {
        "scrolled": false,
        "id": "70bc9697",
        "outputId": "3b106357-8e96-440b-b2b9-aeb21fb9a11b"
      },
      "outputs": [
        {
          "name": "stderr",
          "output_type": "stream",
          "text": [
            "/opt/anaconda3/lib/python3.9/site-packages/seaborn/_decorators.py:36: FutureWarning: Pass the following variables as keyword args: x, y. From version 0.12, the only valid positional argument will be `data`, and passing other arguments without an explicit keyword will result in an error or misinterpretation.\n",
            "  warnings.warn(\n"
          ]
        },
        {
          "data": {
            "image/png": "[encoded data removed]",
            "text/plain": [
              "<Figure size 432x288 with 1 Axes>"
            ]
          },
          "metadata": {},
          "output_type": "display_data"
        }
      ],
      "source": [
        "sns.set(color_codes=True)\n",
        "sns.set_style(\"white\")\n",
        "ax = sns.regplot(Y_test_final, Y_Pred_final, scatter_kws={'alpha':0.4})\n",
        "ax.set_xlabel('Actual Score', fontsize='large', fontweight='bold')\n",
        "ax.set_ylabel('Predicted Score', fontsize='large', fontweight='bold')\n",
        "\n",
        "\n",
        "\n",
        "plt.show()"
      ]
    },
    {
      "cell_type": "code",
      "execution_count": null,
      "id": "a2916fd5",
      "metadata": {
        "scrolled": true,
        "id": "a2916fd5",
        "outputId": "9fc9b9fd-340b-4f42-fc9d-0ceed3f658e2"
      },
      "outputs": [
        {
          "data": {
            "text/plain": [
              "0.65"
            ]
          },
          "execution_count": 196,
          "metadata": {},
          "output_type": "execute_result"
        }
      ],
      "source": [
        "from sklearn.metrics import r2_score\n",
        "\n",
        "round(r2_score(Y_Pred_final, Y_test_final), 2)"
      ]
    }
  ],
  "metadata": {
    "kernelspec": {
      "display_name": "Python 3 (ipykernel)",
      "language": "python",
      "name": "python3"
    },
    "language_info": {
      "codemirror_mode": {
        "name": "ipython",
        "version": 3
      },
      "file_extension": ".py",
      "mimetype": "text/x-python",
      "name": "python",
      "nbconvert_exporter": "python",
      "pygments_lexer": "ipython3",
      "version": "3.9.12"
    },
    "colab": {
      "provenance": [],
      "include_colab_link": true
    }
  },
  "nbformat": 4,
  "nbformat_minor": 5
}